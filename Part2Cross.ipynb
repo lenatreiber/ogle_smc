{
 "cells": [
  {
   "cell_type": "code",
   "execution_count": 1,
   "metadata": {},
   "outputs": [],
   "source": [
    "from uncertainties import ufloat\n",
    "from uncertainties.umath import *\n",
    "import math\n",
    "import numpy as np\n",
    "import matplotlib.pyplot as plt\n",
    "import pandas as pd\n",
    "from astropy.stats import LombScargle\n",
    "from scipy import signal\n",
    "%matplotlib inline\n",
    "import warnings\n",
    "warnings.filterwarnings(\"ignore\")"
   ]
  },
  {
   "cell_type": "code",
   "execution_count": 2,
   "metadata": {},
   "outputs": [],
   "source": [
    "import glob\n",
    "from astropy.table import Table,join,vstack,unique\n",
    "\n",
    "#load in names of OGLE sources in each of II,III,IV that is in part II (no known pulsations)\n",
    "og2 = Table.read('smc_list/PART2_OII.list',names=['src_n','name','RA','dec'],format='ascii')\n",
    "og3 = Table.read('smc_list/PART2_OIII.list',names=['src_n','name','RA','dec'],format='ascii')\n",
    "og4 = Table.read('smc_list/PART2_OIV.list',names=['src_n','name','RA','dec'],format='ascii')"
   ]
  },
  {
   "cell_type": "code",
   "execution_count": 4,
   "metadata": {},
   "outputs": [
    {
     "data": {
      "text/html": [
       "<i>Table length=4</i>\n",
       "<table id=\"table112072595408\" class=\"table-striped table-bordered table-condensed\">\n",
       "<thead><tr><th>src_n</th><th>name</th><th>RA</th><th>dec</th></tr></thead>\n",
       "<thead><tr><th>str4</th><th>str14</th><th>str10</th><th>str11</th></tr></thead>\n",
       "<tr><td>19</td><td>smc_sc5.65500</td><td>0:49:11.45</td><td>-72:49:37.1</td></tr>\n",
       "<tr><td>42</td><td>smc_sc4.116980</td><td>0:47:24.17</td><td>-73:12:26.6</td></tr>\n",
       "<tr><td>61</td><td>smc_sc5.111500</td><td>0:49:29.81</td><td>-73:10:58.0</td></tr>\n",
       "<tr><td>67</td><td>smc_sc2.79541</td><td>0:42:07.87</td><td>-73:45:01.9</td></tr>\n",
       "</table>"
      ],
      "text/plain": [
       "<Table length=4>\n",
       "src_n      name          RA         dec    \n",
       " str4     str14        str10       str11   \n",
       "----- -------------- ---------- -----------\n",
       "   19  smc_sc5.65500 0:49:11.45 -72:49:37.1\n",
       "   42 smc_sc4.116980 0:47:24.17 -73:12:26.6\n",
       "   61 smc_sc5.111500 0:49:29.81 -73:10:58.0\n",
       "   67  smc_sc2.79541 0:42:07.87 -73:45:01.9"
      ]
     },
     "execution_count": 4,
     "metadata": {},
     "output_type": "execute_result"
    }
   ],
   "source": [
    "og2[:4]"
   ]
  },
  {
   "cell_type": "code",
   "execution_count": 5,
   "metadata": {},
   "outputs": [
    {
     "name": "stdout",
     "output_type": "stream",
     "text": [
      "72a\n",
      "121a\n"
     ]
    }
   ],
   "source": [
    "#only keep ints but remember to come back for these sources\n",
    "og2n = np.array(og2['src_n'])\n",
    "int_inds2 = [0] #indices of integer src numbers\n",
    "# c = 0\n",
    "for i in range(1,len(og2n)):\n",
    "    if len(og2n[i])>len(og2n[i-1]) and len(og2n[i])>len(og2n[i+1]):\n",
    "        print(og2n[i])\n",
    "    else: int_inds2.append(i)"
   ]
  },
  {
   "cell_type": "code",
   "execution_count": 6,
   "metadata": {},
   "outputs": [
    {
     "name": "stdout",
     "output_type": "stream",
     "text": [
      "105a\n",
      "114a\n",
      "67b\n",
      "68a\n",
      "116a\n",
      "132a\n"
     ]
    }
   ],
   "source": [
    "#repeat for OIII and OIV\n",
    "og3n = np.array(og3['src_n'])\n",
    "int_inds3 = [0] #indices of integer src numbers\n",
    "for i in range(1,len(og3n)):\n",
    "    if len(og3n[i])>len(og3n[i-1]) and len(og3n[i])>len(og3n[i+1]):\n",
    "        print(og3n[i])\n",
    "    else: int_inds3.append(i)\n",
    "        \n",
    "og4n = np.array(og4['src_n'])\n",
    "int_inds4 = [0] #indices of integer src numbers\n",
    "for i in range(1,len(og4n)):\n",
    "    if len(og4n[i])>len(og4n[i-1]) and len(og4n[i])>len(og4n[i+1]):\n",
    "        print(og4n[i])\n",
    "    else: int_inds4.append(i)"
   ]
  },
  {
   "cell_type": "code",
   "execution_count": 7,
   "metadata": {},
   "outputs": [],
   "source": [
    "#filtered tables\n",
    "og2f = og2[int_inds2]\n",
    "og3f = og3[int_inds3]\n",
    "og4f = og4[int_inds4]\n",
    "\n",
    "#set data types\n",
    "og2f = Table(og2f,dtype=('int32','str','str','str'))\n",
    "og3f = Table(og3f,dtype=('int32','str','str','str'))\n",
    "og4f = Table(og4f,dtype=('int32','str','str','str'))"
   ]
  },
  {
   "cell_type": "code",
   "execution_count": 9,
   "metadata": {},
   "outputs": [],
   "source": [
    "#make table with all sources and file names will be added\n",
    "allog = vstack([og2f,og3f,og4f])\n",
    "#only keep unique src numbers\n",
    "allog = unique(allog,keys='src_n')"
   ]
  },
  {
   "cell_type": "code",
   "execution_count": 11,
   "metadata": {},
   "outputs": [
    {
     "data": {
      "text/html": [
       "<i>Table length=3</i>\n",
       "<table id=\"table112072525072\" class=\"table-striped table-bordered table-condensed\">\n",
       "<thead><tr><th>src_n</th><th>name</th><th>RA</th><th>dec</th></tr></thead>\n",
       "<thead><tr><th>int32</th><th>str15</th><th>str10</th><th>str11</th></tr></thead>\n",
       "<tr><td>1</td><td>smc116.2.6392</td><td>1:17:05.14</td><td>-73:26:36.0</td></tr>\n",
       "<tr><td>8</td><td>smc108.8.124</td><td>0:54:10.27</td><td>-72:25:44.1</td></tr>\n",
       "<tr><td>19</td><td>smc_sc5.65500</td><td>0:49:11.45</td><td>-72:49:37.1</td></tr>\n",
       "</table>"
      ],
      "text/plain": [
       "<Table length=3>\n",
       "src_n      name         RA         dec    \n",
       "int32     str15       str10       str11   \n",
       "----- ------------- ---------- -----------\n",
       "    1 smc116.2.6392 1:17:05.14 -73:26:36.0\n",
       "    8  smc108.8.124 0:54:10.27 -72:25:44.1\n",
       "   19 smc_sc5.65500 0:49:11.45 -72:49:37.1"
      ]
     },
     "execution_count": 11,
     "metadata": {},
     "output_type": "execute_result"
    }
   ],
   "source": [
    "allog[:3]"
   ]
  },
  {
   "cell_type": "code",
   "execution_count": 34,
   "metadata": {},
   "outputs": [],
   "source": [
    "#cross tables give V file names based on I file names\n",
    "cross3 = Table.read('smc_list/IV_OIII.cross',format='ascii',names=['Iname','Vname'])\n",
    "cross4 = Table.read('smc_list/IV_OIV.cross',format='ascii',names=['Iname','Vname'])\n",
    "\n",
    "#dictionaries for file names -- will be added to table later\n",
    "o2idict = dict.fromkeys(allog['src_n'], '')\n",
    "o2vdict = dict.fromkeys(allog['src_n'], '')\n",
    "o3idict = dict.fromkeys(allog['src_n'], '')\n",
    "o3vdict = dict.fromkeys(allog['src_n'], '')\n",
    "o4idict = dict.fromkeys(allog['src_n'], '')\n",
    "o4vdict = dict.fromkeys(allog['src_n'], '')\n",
    "\n",
    "#OII directory and files\n",
    "i2dir = 'smc_list/OGLE-II/I/'\n",
    "v2dir = 'smc_list/OGLE-II/V/'\n",
    "i2f = glob.glob(i2dir+'*')\n",
    "v2f = glob.glob(v2dir+'*')\n",
    "#get directories and files\n",
    "i3dir = 'smc_list/OGLE-III/I/'\n",
    "v3dir = 'smc_list/OGLE-III/V/'\n",
    "i3f = glob.glob(i3dir+'*')\n",
    "v3f = glob.glob(v3dir+'*')\n",
    "#directories and files for og4: use calibrated\n",
    "i4dir = 'smc_list/OGLE-IV/I/CALIBRATED/'\n",
    "v4dir = 'smc_list/OGLE-IV/V/CALIBRATED/'\n",
    "i4f = glob.glob(i4dir+'*')\n",
    "v4f = glob.glob(v4dir+'*')"
   ]
  },
  {
   "cell_type": "code",
   "execution_count": 35,
   "metadata": {},
   "outputs": [
    {
     "name": "stdout",
     "output_type": "stream",
     "text": [
      "19 I found with name\n",
      "19 V found with name\n",
      "42 I found with name\n",
      "42 V found with name\n",
      "61 I found with name\n",
      "61 V found with name\n",
      "67 I found with name\n",
      "67 V found with name\n",
      "68 I found with name\n",
      "68 V found with name\n",
      "71 I found with name\n",
      "71 V found with name\n",
      "72 I found with name\n",
      "72 V found with name\n",
      "73 I found with name\n",
      "73 V found with name\n",
      "75 I found with name\n",
      "75 V found with name\n",
      "76 I found with name\n",
      "76 V found with name\n",
      "77 I found with name\n",
      "77 V found with name\n",
      "78 I found with name\n",
      "78 V found with name\n",
      "79 I found with name\n",
      "79 V found with name\n",
      "80 I found with name\n",
      "80 V found with name\n",
      "81 I found with name\n",
      "81 V found with name\n",
      "82 I found with name\n",
      "82 V found with name\n",
      "84 I found with name\n",
      "84 V found with name\n",
      "85 I found with name\n",
      "85 V found with name\n",
      "86 I found with name\n",
      "86 V found with name\n",
      "87 I found with name\n",
      "87 V found with name\n",
      "97 I found with name\n",
      "97 V found with name\n",
      "98 I found with name\n",
      "98 V found with name\n",
      "101 I found with name\n",
      "101 V found with name\n",
      "104 I found with name\n",
      "104 V found with name\n",
      "106 I found with name\n",
      "106 V found with name\n",
      "107 I found with name\n",
      "107 V found with name\n",
      "115 I found with name\n",
      "115 V found with name\n",
      "116 I found with name\n",
      "116 V found with name\n",
      "121 I found with name\n",
      "121 V found with name\n",
      "123 I found with name\n",
      "123 V found with name\n",
      "126 I found with name\n",
      "126 V found with name\n",
      "129 I found with name\n",
      "129 V found with name\n",
      "132 I found with name\n",
      "132 V found with name\n",
      "133 I found with name\n",
      "133 V found with name\n",
      "138 I found with name\n",
      "138 V found with name\n"
     ]
    }
   ],
   "source": [
    "#procedure below effective for all of OII (with integer source numbers)\n",
    "for s in og2f['src_n']:\n",
    "    #get source names from og2 table\n",
    "    #I band name\n",
    "    name = og2f[og2f['src_n']==s]['name'][0]\n",
    "\n",
    "    if i2dir+name+'.dat' in i2f:\n",
    "        print(s,'I found with name')\n",
    "        o2idict[s] = i2dir+name+'.dat'\n",
    "        i2f.remove(i2dir+name+'.dat')\n",
    "    else: print(s,'source not found in I folder')\n",
    "    \n",
    "    #repeat with V band\n",
    "    if v2dir+name+'.dat' in v2f:\n",
    "        print(s,'V found with name')\n",
    "        o2vdict[s] = v2dir+name+'.dat'\n",
    "        v2f.remove(v2dir+name+'.dat')\n",
    "    else: print(s,'source not found in V folder')"
   ]
  },
  {
   "cell_type": "code",
   "execution_count": 36,
   "metadata": {},
   "outputs": [
    {
     "name": "stdout",
     "output_type": "stream",
     "text": [
      "1 V found with cross name\n",
      "1 I found with name\n",
      "8 V found with cross name\n",
      "8 I found with name\n",
      "19 V found with cross name\n",
      "19 I found with name\n",
      "61 V found with cross name\n",
      "61 I found with name\n",
      "67 V found with cross name\n",
      "67 I found with name\n",
      "68 V found with cross name\n",
      "68 I found with name\n",
      "69 V found with cross name\n",
      "69 I found with name\n",
      "71 V found with cross name\n",
      "71 I found with name\n",
      "72 V found with cross name\n",
      "72 I found with name\n",
      "73 V found with cross name\n",
      "73 I found with name\n",
      "75 V found with cross name\n",
      "75 I found with name\n",
      "76 V found with cross name\n",
      "76 I found with name\n",
      "77 source not found in V folder\n",
      "77 I found with name\n",
      "78 source not found in V folder\n",
      "78 I found with name\n",
      "79 V found with cross name\n",
      "79 I found with name\n",
      "80 V found with cross name\n",
      "80 I found with name\n",
      "81 V found with cross name\n",
      "81 I found with name\n",
      "82 source not found in V folder\n",
      "82 I found with name\n",
      "84 V found with cross name\n",
      "84 I found with name\n",
      "85 V found with cross name\n",
      "85 I found with name\n",
      "86 V found with cross name\n",
      "86 I found with name\n",
      "87 V found with cross name\n",
      "87 I found with name\n",
      "93 V found with cross name\n",
      "93 I found with name\n",
      "95 V found with cross name\n",
      "95 I found with name\n",
      "96 V found with cross name\n",
      "96 I found with name\n",
      "97 V found with cross name\n",
      "97 I found with name\n",
      "98 V found with cross name\n",
      "98 I found with name\n",
      "100 V found with cross name\n",
      "100 I found with name\n",
      "101 V found with cross name\n",
      "101 I found with name\n",
      "104 V found with cross name\n",
      "104 I found with name\n",
      "105 V found with cross name\n",
      "105 I found with name\n",
      "106 V found with cross name\n",
      "106 I found with name\n",
      "107 V found with cross name\n",
      "107 I found with name\n",
      "111 V found with cross name\n",
      "111 I found with name\n",
      "114 V found with cross name\n",
      "114 I found with name\n",
      "115 V found with cross name\n",
      "115 I found with name\n",
      "116 V found with cross name\n",
      "116 I found with name\n",
      "119 V found with cross name\n",
      "119 I found with name\n",
      "121 V found with cross name\n",
      "121 I found with name\n",
      "123 V found with cross name\n",
      "123 I found with name\n",
      "124 V found with cross name\n",
      "124 I found with name\n",
      "126 V found with cross name\n",
      "126 I found with name\n",
      "128 V found with cross name\n",
      "128 I found with name\n",
      "129 source not found in V folder\n",
      "129 I found with name\n",
      "132 V found with cross name\n",
      "132 I found with name\n",
      "133 V found with cross name\n",
      "133 I found with name\n",
      "136 V found with cross name\n",
      "136 I found with name\n",
      "138 V found with cross name\n",
      "138 I found with name\n",
      "139 V found with cross name\n",
      "139 I found with name\n",
      "141 V found with cross name\n",
      "141 I found with name\n"
     ]
    }
   ],
   "source": [
    "for s in og3f['src_n']:\n",
    "    #get source names from og2 table\n",
    "    #I band name\n",
    "    name = og3f[og3f['src_n']==s]['name'][0]\n",
    "    #corresponding V band name from cross\n",
    "    if name in cross3['Iname']:\n",
    "        crname = cross3[cross3['Iname']==name]['Vname'][0]\n",
    "    else: crname = name\n",
    "    if v3dir+crname+'.dat' in v3f:\n",
    "        #add to dictionary\n",
    "        o3vdict[s] = v3dir+crname+'.dat'\n",
    "        print(s,'V found with cross name')\n",
    "        #delete string from v2f\n",
    "        v3f.remove(v3dir+crname+'.dat')\n",
    "    else: print(s,'source not found in V folder')\n",
    "        \n",
    "    if i3dir+name+'.dat' in i3f:\n",
    "        print(s,'I found with name')\n",
    "        o3idict[s] = i3dir+name+'.dat'\n",
    "        i3f.remove(i3dir+name+'.dat')\n",
    "\n",
    "    else: print(s,'source not found in I folder')"
   ]
  },
  {
   "cell_type": "code",
   "execution_count": 37,
   "metadata": {
    "collapsed": true,
    "jupyter": {
     "outputs_hidden": true
    }
   },
   "outputs": [
    {
     "name": "stdout",
     "output_type": "stream",
     "text": [
      "8 V found with cross name\n",
      "8 I found with name\n",
      "68 V found with cross name\n",
      "68 I found with name\n",
      "69 V found with cross name\n",
      "69 I found with name\n",
      "71 V found with cross name\n",
      "71 I found with name\n",
      "72 V found with cross name\n",
      "72 I found with name\n",
      "73 V found with cross name\n",
      "73 I found with name\n",
      "75 V found with cross name\n",
      "75 I found with name\n",
      "76 V found with cross name\n",
      "76 I found with name\n",
      "77 source not found in V folder\n",
      "77 I found with name\n",
      "78 source not found in V folder\n",
      "78 I found with name\n",
      "79 V found with cross name\n",
      "79 I found with name\n",
      "80 V found with cross name\n",
      "80 I found with name\n",
      "81 V found with cross name\n",
      "81 I found with name\n",
      "82 V found with cross name\n",
      "82 I found with name\n",
      "84 V found with cross name\n",
      "84 I found with name\n",
      "85 V found with cross name\n",
      "85 I found with name\n",
      "86 V found with cross name\n",
      "86 I found with name\n",
      "87 V found with cross name\n",
      "87 I found with name\n",
      "93 V found with cross name\n",
      "93 I found with name\n",
      "95 V found with cross name\n",
      "95 I found with name\n",
      "96 V found with cross name\n",
      "96 I found with name\n",
      "97 V found with cross name\n",
      "97 I found with name\n",
      "98 V found with cross name\n",
      "98 I found with name\n",
      "100 V found with cross name\n",
      "100 I found with name\n",
      "101 V found with cross name\n",
      "101 I found with name\n",
      "104 V found with cross name\n",
      "104 I found with name\n",
      "105 V found with cross name\n",
      "105 I found with name\n",
      "106 V found with cross name\n",
      "106 I found with name\n",
      "107 V found with cross name\n",
      "107 source not found in I folder\n",
      "111 V found with cross name\n",
      "111 I found with name\n",
      "114 V found with cross name\n",
      "114 I found with name\n",
      "115 V found with cross name\n",
      "115 I found with name\n",
      "116 V found with cross name\n",
      "116 I found with name\n",
      "119 V found with cross name\n",
      "119 I found with name\n",
      "121 V found with cross name\n",
      "121 I found with name\n",
      "123 V found with cross name\n",
      "123 I found with name\n",
      "126 V found with cross name\n",
      "126 I found with name\n",
      "128 V found with cross name\n",
      "128 I found with name\n",
      "129 V found with cross name\n",
      "129 I found with name\n",
      "133 V found with cross name\n",
      "133 I found with name\n",
      "138 V found with cross name\n",
      "138 I found with name\n",
      "139 V found with cross name\n",
      "139 I found with name\n",
      "141 V found with cross name\n",
      "141 I found with name\n"
     ]
    }
   ],
   "source": [
    "for s in og4f['src_n']:\n",
    "    #get source names from og2 table\n",
    "    #I band name\n",
    "    name = og4f[og4f['src_n']==s]['name'][0]\n",
    "    #corresponding V band name from cross\n",
    "    if name in cross4['Iname']:\n",
    "        crname = cross4[cross4['Iname']==name]['Vname'][0]\n",
    "    else: crname = name\n",
    "    if v4dir+crname+'.dat' in v4f:\n",
    "        #add to dictionary\n",
    "        o4vdict[s] = v4dir+crname+'.dat'\n",
    "        print(s,'V found with cross name')\n",
    "        #delete string from v2f\n",
    "        v4f.remove(v4dir+crname+'.dat')\n",
    "    else: print(s,'source not found in V folder')\n",
    "        \n",
    "    if i4dir+name+'.dat' in i4f:\n",
    "        print(s,'I found with name')\n",
    "        o4idict[s] = i4dir+name+'.dat'\n",
    "        i4f.remove(i4dir+name+'.dat')\n",
    "\n",
    "    else: print(s,'source not found in I folder')"
   ]
  },
  {
   "cell_type": "code",
   "execution_count": 38,
   "metadata": {},
   "outputs": [],
   "source": [
    "allog['OII I'] = list(o2idict.values())\n",
    "allog['OII V'] = list(o2vdict.values())\n",
    "allog['OIII I'] = list(o3idict.values())\n",
    "allog['OIII V'] = list(o3vdict.values())\n",
    "allog['OIV I'] = list(o4idict.values())\n",
    "allog['OIV V'] = list(o4vdict.values())"
   ]
  },
  {
   "cell_type": "code",
   "execution_count": 40,
   "metadata": {},
   "outputs": [
    {
     "data": {
      "text/html": [
       "<i>Table length=5</i>\n",
       "<table id=\"table112073689360\" class=\"table-striped table-bordered table-condensed\">\n",
       "<thead><tr><th>src_n</th><th>name</th><th>RA</th><th>dec</th><th>OII I</th><th>OII V</th><th>OIII I</th><th>OIII V</th><th>OIV I</th><th>OIV V</th></tr></thead>\n",
       "<thead><tr><th>int32</th><th>str15</th><th>str10</th><th>str11</th><th>str37</th><th>str37</th><th>str38</th><th>str38</th><th>str49</th><th>str49</th></tr></thead>\n",
       "<tr><td>1</td><td>smc116.2.6392</td><td>1:17:05.14</td><td>-73:26:36.0</td><td></td><td></td><td>smc_list/OGLE-III/I/smc116.2.6392.dat</td><td>smc_list/OGLE-III/V/smc116.2.5004.dat</td><td></td><td></td></tr>\n",
       "<tr><td>8</td><td>smc108.8.124</td><td>0:54:10.27</td><td>-72:25:44.1</td><td></td><td></td><td>smc_list/OGLE-III/I/smc108.8.124.dat</td><td>smc_list/OGLE-III/V/smc108.8.287.dat</td><td>smc_list/OGLE-IV/I/CALIBRATED/smc719.19.388.dat</td><td>smc_list/OGLE-IV/V/CALIBRATED/smc719.19.2181.dat</td></tr>\n",
       "<tr><td>19</td><td>smc_sc5.65500</td><td>0:49:11.45</td><td>-72:49:37.1</td><td>smc_list/OGLE-II/I/smc_sc5.65500.dat</td><td>smc_list/OGLE-II/V/smc_sc5.65500.dat</td><td>smc_list/OGLE-III/I/smc101.8.21127.dat</td><td>smc_list/OGLE-III/V/smc101.8.29697.dat</td><td></td><td></td></tr>\n",
       "<tr><td>42</td><td>smc_sc4.116980</td><td>0:47:24.17</td><td>-73:12:26.6</td><td>smc_list/OGLE-II/I/smc_sc4.116980.dat</td><td>smc_list/OGLE-II/V/smc_sc4.116980.dat</td><td></td><td></td><td></td><td></td></tr>\n",
       "<tr><td>61</td><td>smc_sc5.111500</td><td>0:49:29.81</td><td>-73:10:58.0</td><td>smc_list/OGLE-II/I/smc_sc5.111500.dat</td><td>smc_list/OGLE-II/V/smc_sc5.111500.dat</td><td>smc_list/OGLE-III/I/smc100.7.58770.dat</td><td>smc_list/OGLE-III/V/smc100.7.78408.dat</td><td></td><td></td></tr>\n",
       "</table>"
      ],
      "text/plain": [
       "<Table length=5>\n",
       "src_n      name      ...                      OIV V                      \n",
       "int32     str15      ...                      str49                      \n",
       "----- -------------- ... ------------------------------------------------\n",
       "    1  smc116.2.6392 ...                                                 \n",
       "    8   smc108.8.124 ... smc_list/OGLE-IV/V/CALIBRATED/smc719.19.2181.dat\n",
       "   19  smc_sc5.65500 ...                                                 \n",
       "   42 smc_sc4.116980 ...                                                 \n",
       "   61 smc_sc5.111500 ...                                                 "
      ]
     },
     "execution_count": 40,
     "metadata": {},
     "output_type": "execute_result"
    }
   ],
   "source": [
    "allog[:5]"
   ]
  },
  {
   "cell_type": "code",
   "execution_count": 43,
   "metadata": {},
   "outputs": [],
   "source": [
    "from astropy.io import ascii\n",
    "ascii.write(allog,'part2files.csv',format='csv')"
   ]
  }
 ],
 "metadata": {
  "kernelspec": {
   "display_name": "Python 3",
   "language": "python",
   "name": "python3"
  },
  "language_info": {
   "codemirror_mode": {
    "name": "ipython",
    "version": 3
   },
   "file_extension": ".py",
   "mimetype": "text/x-python",
   "name": "python",
   "nbconvert_exporter": "python",
   "pygments_lexer": "ipython3",
   "version": "3.7.6"
  }
 },
 "nbformat": 4,
 "nbformat_minor": 4
}
