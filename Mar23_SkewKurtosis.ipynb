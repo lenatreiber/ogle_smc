{
 "cells": [
  {
   "cell_type": "code",
   "execution_count": 1,
   "metadata": {},
   "outputs": [],
   "source": [
    "from uncertainties import ufloat\n",
    "from uncertainties.umath import *\n",
    "import math\n",
    "import numpy as np\n",
    "import matplotlib.pyplot as plt\n",
    "import pandas as pd\n",
    "from astropy.stats import LombScargle\n",
    "from scipy import signal\n",
    "%matplotlib inline\n",
    "import warnings\n",
    "warnings.filterwarnings(\"ignore\")\n",
    "import scipy.optimize\n",
    "import glob\n",
    "from astropy.table import Table,join,vstack,unique\n",
    "from importlib import reload\n",
    "from mpl_toolkits.axes_grid1.inset_locator import inset_axes\n",
    "import seaborn as sb\n",
    "import scipy.stats as st\n",
    "import wotan\n",
    "\n",
    "import ogle as o #module\n",
    "\n",
    "blue = 'cornflowerblue'\n",
    "navy = 'navy'\n",
    "purple = 'rebeccapurple'\n",
    "pink = '#CF6275'\n",
    "maroon = 'maroon'\n",
    "\n",
    "cross = Table.read('sourcefiles.csv')\n",
    "full = Table.read('smc_x_m03_zar_match_OGLE_v2.ascii',format='ascii')\n",
    "\n",
    "summ = pd.read_csv('Feb23_summtab.csv')\n",
    "alls = pd.read_csv('current_summ.csv') \n",
    "\n",
    "cross['Part'] = 1\n",
    "cross2 = Table.read('part2files.csv')\n",
    "cross2 = join(cross2,full,keys='src_n')\n",
    "cross2['Part'] = 2\n",
    "\n",
    "mlist2 = ['OII I','OIII I','OIV I']\n",
    "mlist1 = ['OII I','OIII I']\n",
    "\n",
    "#saving figure function\n",
    "def sf(name,dpi=150):\n",
    "    plt.savefig(f'Figs/{name}.png',bbox_inches='tight',dpi=dpi)\n",
    "#simple plotting function\n",
    "def plot(s,calib=False,both=True):\n",
    "    try:band = o.getIV(s,cross,both=both,stack=True,plot=True,mlist=mlist1,figsize=(4,3),calib=calib)\n",
    "    except:band = o.getIV(s,cross2,both=both,stack=True,plot=True,mlist=mlist2,figsize=(4,3),calib=calib)\n",
    "        \n",
    "#set plot styles\n",
    "import matplotlib as mpl\n",
    "mpl.rcParams['xtick.major.size'] = 9\n",
    "mpl.rcParams['xtick.major.width'] = 1.2\n",
    "mpl.rcParams['xtick.minor.size'] = 4\n",
    "mpl.rcParams['xtick.minor.width'] = 1.2\n",
    "\n",
    "mpl.rcParams['ytick.major.size'] = 9\n",
    "mpl.rcParams['ytick.major.width'] = 1.2\n",
    "mpl.rcParams['ytick.minor.size'] = 4\n",
    "mpl.rcParams['ytick.minor.width'] = 1.2\n",
    "\n",
    "mpl.rcParams['xtick.direction'] = 'in'\n",
    "mpl.rcParams['ytick.direction'] = 'in'\n",
    "\n",
    "mpl.rcParams['ytick.right'] = True\n",
    "\n",
    "mpl.rcParams['ytick.minor.visible'] = True\n",
    "mpl.rcParams['xtick.minor.visible'] = True\n",
    "\n",
    "mpl.rcParams['xtick.top'] = True\n",
    "\n",
    "#dictionaries to get new source numbers and names from old source numbers\n",
    "src_dict = dict(zip(np.array(alls['src_n']), np.array(alls['new src_n'])))\n",
    "name_dict = dict(zip(np.array(summ['src_n']), np.array(summ['name'])))\n",
    "\n",
    "from matplotlib.patches import Rectangle as rec\n",
    "from matplotlib.lines import Line2D"
   ]
  },
  {
   "cell_type": "markdown",
   "metadata": {},
   "source": [
    "# Simple Analysis of Phase-Folded Light Curves\n",
    "- mostly the same code as Mar23_OpticalXrayPeriod but less plotting; adjusted to use for all sources; and saving skew and kurtosis information\n",
    "- recreating kurtosis vs. skew figure with a few examples highlighted"
   ]
  },
  {
   "cell_type": "code",
   "execution_count": 13,
   "metadata": {
    "jupyter": {
     "source_hidden": true
    }
   },
   "outputs": [],
   "source": [
    "# (just first time running) add columns to summ\n",
    "summ['est. skew'] = np.nan\n",
    "summ['est. kurtosis'] = np.nan\n",
    "summ['est. range'] = np.nan\n",
    "\n",
    "summ['near est. skew'] = np.nan\n",
    "summ['near est. kurtosis'] = np.nan\n",
    "summ['near est. range'] = np.nan\n",
    "\n",
    "summ['Coe skew'] = np.nan\n",
    "summ['Coe kurtosis'] = np.nan\n",
    "summ['Coe range'] = np.nan\n",
    "\n",
    "summ['near Coe skew'] = np.nan\n",
    "summ['near Coe kurtosis'] = np.nan\n",
    "summ['near Coe range'] = np.nan\n",
    "\n",
    "summ['2-200d skew'] = np.nan\n",
    "summ['2-200d kurtosis'] = np.nan\n",
    "summ['2-200d range'] = np.nan\n",
    "\n",
    "summ['X-ray skew'] = np.nan\n",
    "summ['X-ray kurtosis'] = np.nan\n",
    "summ['X-ray range'] = np.nan"
   ]
  },
  {
   "cell_type": "code",
   "execution_count": 2,
   "metadata": {},
   "outputs": [],
   "source": [
    "def phase_on_ax(iband,cax,period,label,pbins=16,det=True):\n",
    "    if det: yax = 'I detrend'\n",
    "    else: yax = 'I mag'\n",
    "    cax.errorbar((iband['MJD-50000']%period)/period,iband[yax],yerr=iband['I mag err'],color=pink,alpha=0.3,ls='none',marker='o',markersize=5,zorder=2)\n",
    "    cax.errorbar(1+(iband['MJD-50000']%period)/period,iband[yax],yerr=iband['I mag err'],color=pink,alpha=0.3,ls='none',marker='o',markersize=5,zorder=2)\n",
    "    mid,avg,std = o.meanphase(iband,period,pbins=pbins,det=det,double=True,stdev=True,sterr=True,divide=True)\n",
    "    cax.step(mid,avg,where='mid',color='black',label=f'{label} {period:.2f}, range {np.nanmax(avg)-np.nanmin(avg):.3f}',zorder=3)\n",
    "    #add errors as one sigma\n",
    "    cax.errorbar(mid,avg,yerr=std,color='black',marker='',linestyle='none',alpha=0.5,zorder=4)\n",
    "    maxa,mina = np.nanmax(avg)+std[np.nanargmax(avg)],np.nanmin(avg)-std[np.nanargmin(avg)]\n",
    "    cax.set_ylim(maxa+.01,mina-.01)\n",
    "    cax.legend(fontsize=11)"
   ]
  },
  {
   "cell_type": "code",
   "execution_count": 4,
   "metadata": {},
   "outputs": [],
   "source": [
    "def describe_phase(iband,period,pbins=16,det=True):\n",
    "    mid,avg,std = o.meanphase(iband,period,pbins=pbins,det=det,double=True,stdev=True,sterr=True,divide=True)\n",
    "    prange = np.nanmax(avg)-np.nanmin(avg)\n",
    "    skew = st.skew(avg,nan_policy='omit')\n",
    "    kurtosis = st.kurtosis(avg,nan_policy='omit')\n",
    "    return prange,skew,kurtosis"
   ]
  },
  {
   "cell_type": "code",
   "execution_count": 77,
   "metadata": {},
   "outputs": [],
   "source": [
    "srcs = np.array(summ['src_n'])\n",
    "column_dict = {'best 2-200d period': '2-200d',\n",
    "              'est. period':'est.',\n",
    "              'Coe est. period':'Coe',\n",
    "              'X-ray period':'X-ray',\n",
    "              'best auto det pd':'near est.',\n",
    "              'best near Coe': 'near Coe'}"
   ]
  },
  {
   "cell_type": "code",
   "execution_count": 78,
   "metadata": {},
   "outputs": [],
   "source": [
    "def add_phase_to_summ(src,pbins=16,det=True,plot_sk=False):\n",
    "    #get I band data and detrend with spline\n",
    "    try:iband,vband = o.getIV(src,cross,stack=True,plot=False)\n",
    "    except:iband,vband = o.getIV(src,cross2,mlist=mlist2,stack=True,plot=False) \n",
    "    if det: iband = o.splinedetrend(iband,rettemp=True) #uses defaults\n",
    "    \n",
    "    new_row = summ[summ['src_n']==src]\n",
    "    row = new_row.iloc[0]\n",
    "\n",
    "    if plot_sk: \n",
    "        colors = ['#ddd8c4', '#a3c9a8', '#84b59f', '#69a297', '#50808e','#9CADCE']\n",
    "        markers = ['o','x','v','*','p','h']\n",
    "    for i in range(len(column_dict.keys())):\n",
    "        key = list(column_dict.keys())[i]\n",
    "        period = row[key]\n",
    "        if not np.isnan(period) and period>0:\n",
    "            prange,skew,kurtosis = describe_phase(iband,period,pbins=pbins,det=det)\n",
    "            new_col = column_dict[key]\n",
    "            new_row[f'{new_col} skew'] = skew\n",
    "            new_row[f'{new_col} kurtosis'] = kurtosis\n",
    "            new_row[f'{new_col} range'] = prange\n",
    "            if plot_sk: #plot kurtosis vs. skew for the one source\n",
    "                plt.scatter(skew,kurtosis,color=colors[i],label=new_col,marker=markers[i])\n",
    "                #plt.text(skew,kurtosis,f'{new_col}',fontsize=12)\n",
    "                plt.ylabel('Phase-Folded Kurtosis',fontsize=14)\n",
    "                plt.xlabel('Phase-Folded Skew',fontsize=14)\n",
    "                nsrcn = src_dict[src]\n",
    "                plt.title(f'Source #{nsrcn}',fontsize=14)\n",
    "                plt.legend()\n",
    "    \n",
    "    summ[summ['src_n']==src] = new_row"
   ]
  },
  {
   "cell_type": "code",
   "execution_count": 46,
   "metadata": {},
   "outputs": [
    {
     "name": "stdout",
     "output_type": "stream",
     "text": [
      "empty file for OIII I\n",
      "Source #1 not working...\n",
      "empty file for OIII I\n",
      "empty file for OII I\n",
      "empty file for OIII I\n"
     ]
    }
   ],
   "source": [
    "for i in srcs:\n",
    "    try:add_phase_to_summ(i)\n",
    "    except:print(f'Source #{i} not working...')"
   ]
  },
  {
   "cell_type": "code",
   "execution_count": 85,
   "metadata": {},
   "outputs": [
    {
     "data": {
      "image/png": "[encoded data removed]",
      "text/plain": [
       "<Figure size 432x288 with 1 Axes>"
      ]
     },
     "metadata": {
      "needs_background": "light"
     },
     "output_type": "display_data"
    }
   ],
   "source": [
    "def xy(legend=False):\n",
    "    ax = plt.gca()\n",
    "    lims = [np.min([ax.get_xlim(), ax.get_ylim()]),  \n",
    "    np.max([ax.get_xlim(), ax.get_ylim()])]\n",
    "    if legend:\n",
    "        plt.plot(lims,lims,color='grey',label='y=x')\n",
    "        plt.legend()\n",
    "    else:\n",
    "        plt.plot(lims,lims,color='grey')    \n",
    "        \n",
    "#periodogram seems to generally find higher phase-folded range... but not always\n",
    "#true for other established periods as well\n",
    "plt.scatter(summ['2-200d range'],summ['X-ray range'],s=10,color='black')\n",
    "plt.ylabel('X-ray Period Phase-Folded Range',fontsize=14)\n",
    "plt.xlabel('Periodogram Best Phase-Folded Range',fontsize=14)\n",
    "xy(legend=True)"
   ]
  },
  {
   "cell_type": "code",
   "execution_count": 84,
   "metadata": {},
   "outputs": [],
   "source": [
    "for i in column_dict.values():    \n",
    "    plt.scatter(summ[f'{i} skew'],summ[f'{i} kurtosis'],s=10,c='black')#c=np.log10(summ['2-200d range']),cmap='magma')\n",
    "    plt.xlabel('Phase-Folded Skew',fontsize=14)\n",
    "    plt.ylabel('Phase-Folded Kurtosis',fontsize=14)\n",
    "    plt.savefig(f'SkewKurtosisMar23/skew_kurtosis_{i}.pdf',bbox_inches='tight')\n",
    "    plt.close()"
   ]
  },
  {
   "cell_type": "markdown",
   "metadata": {},
   "source": [
    "# ~All Sources on Kurtosis vs. Skew Plot \n",
    "- throughout, be sure to use manual periods found for type 4 sources\n",
    "- a few examples from different regions of plot\n",
    "\n",
    "- mark sources with periods under FAL 0.001 and do version without those\n",
    "- version with best period (qualitatively or with range for now)\n",
    "- version with all the decent periods for the source\n",
    "- can color based on whether X-ray period; can color with range; can color with period"
   ]
  },
  {
   "cell_type": "markdown",
   "metadata": {},
   "source": [
    "### version using periodogram result across the board\n",
    "- if using this version, choose better array of examples\n"
   ]
  },
  {
   "cell_type": "code",
   "execution_count": 132,
   "metadata": {},
   "outputs": [],
   "source": [
    "example_sources = [6,7,11,36]\n",
    "\n",
    "labdict = {example_sources[-1]:'a',example_sources[0]:'b',example_sources[-2]:'c',example_sources[1]:'d'}\n",
    "def circle(src,ax,column='2-200d'):\n",
    "    row = summ[summ['src_n']==src].iloc[0]\n",
    "    ax.scatter(row[f'{column} skew'],row[f'{column} kurtosis'],facecolor='none',color=pink,s=100,alpha=0.8)\n",
    "    label = labdict[src]\n",
    "    ax.text(row[f'{column} skew'],row[f'{column} kurtosis']+.3,label,zorder=5,color='#32585D')\n",
    "    #ax.text(row[f'{column} skew'],row[f'{column} kurtosis']+.3,label,zorder=5)"
   ]
  },
  {
   "cell_type": "code",
   "execution_count": 133,
   "metadata": {},
   "outputs": [],
   "source": [
    "#60 and 63 (old source numbers): use 'best period'\n",
    "iband,vband = o.getIV(60,cross,stack=True,plot=False)\n",
    "iband = o.splinedetrend(iband,rettemp=True) \n",
    "period = alls[alls['src_n']==60].iloc[0]['best period']\n",
    "prange60,skew60,kurtosis60 = describe_phase(iband,period,pbins=16,det=True)\n",
    "\n",
    "iband,vband = o.getIV(63,cross,stack=True,plot=False)\n",
    "iband = o.splinedetrend(iband,rettemp=True) \n",
    "period = alls[alls['src_n']==63].iloc[0]['best period']\n",
    "prange63,skew63,kurtosis63 = describe_phase(iband,period,pbins=16,det=True)"
   ]
  },
  {
   "cell_type": "code",
   "execution_count": 135,
   "metadata": {},
   "outputs": [
    {
     "data": {
      "image/png": "[encoded data removed]",
      "text/plain": [
       "<Figure size 864x360 with 5 Axes>"
      ]
     },
     "metadata": {
      "needs_background": "light"
     },
     "output_type": "display_data"
    }
   ],
   "source": [
    "#use subplots\n",
    "fig3 = plt.figure(figsize=(12,5),constrained_layout=True)\n",
    "gs = fig3.add_gridspec(4,10)\n",
    "ax1 = fig3.add_subplot(gs[:, :-4])\n",
    "ax2 = fig3.add_subplot(gs[:2, -4:-2])\n",
    "ax2.set_title('a',color='#32585D') #: src 36\n",
    "ax3 = fig3.add_subplot(gs[:2, -2:])\n",
    "ax3.set_title('b',color='#32585D') #: src 6\n",
    "ax4 = fig3.add_subplot(gs[2:, -4:-2])\n",
    "ax4.set_title('c',color='#32585D') #: src 11\n",
    "ax5 = fig3.add_subplot(gs[2:, -2:])\n",
    "ax5.set_title('d',color='#32585D') #: src 7\n",
    "\n",
    "ax1.scatter(summ['2-200d skew'],summ['2-200d kurtosis'],color='black',s=10,alpha=0.7)\n",
    "#start by using (old) source numbers 6, 7, 11, and 36 for examples\n",
    "\n",
    "axes = [ax3,ax5,ax4,ax2]\n",
    "for i in range(len(example_sources)):\n",
    "    current_source = example_sources[i]\n",
    "    iband = o.getIV(current_source,cross,stack=True,both=False)\n",
    "    iband = o.splinedetrend(iband,rettemp=True)\n",
    "    period = summ[summ['src_n']==current_source].iloc[0]['best 2-200d period']\n",
    "    mid,avg,err = o.meanphase(iband,period,pbins=16,det=True,double=True,stdev=True,sterr=True,divide=True)\n",
    "    current_ax = axes[i]\n",
    "    current_ax.step(mid,avg,where='mid',color='black',linewidth=1,label=f'{period:.2f}')\n",
    "    current_ax.errorbar(mid,avg,yerr=err,color='black',alpha=0.6,ls='none')\n",
    "    amax = np.nanmax(avg)+np.nanmax(err)\n",
    "    amin = np.nanmin(avg)-np.nanmax(err)\n",
    "    current_ax.set_ylim(amax+.001,amin-.001)\n",
    "    current_ax.set_xlim(0,2)\n",
    "    circle(current_source,ax1)\n",
    "\n",
    "ax1.set_ylabel('Phase-folded Kurtosis',fontsize=16)\n",
    "ax1.set_xlabel('Phase-folded Skew',fontsize=16)\n",
    "\n",
    "ax1.set_ylim(-2,12)\n",
    "ax1.set_xlim(-4,1.75)\n",
    "ax1.scatter(skew60,kurtosis60,color='black',s=10,alpha=0.7)\n",
    "ax1.scatter(skew63,kurtosis63,color='black',s=10,alpha=0.7)\n",
    "\n",
    "ax1.add_patch(rec((-3.617,10.45),.15,.6,facecolor='none',edgecolor='rebeccapurple'))\n",
    "\n",
    "\n",
    "ax2.legend(frameon=False);ax3.legend(frameon=False);ax4.legend(frameon=False);ax5.legend(frameon=False)\n",
    "\n",
    "legend_elements = [#Line2D([0], [0], color='navy',marker='x',markersize=8, label='pdgram best',ls='none'),\n",
    "                   #Line2D([0], [0], color='darkseagreen',marker='x',markersize=8, label='established from X-ray',ls='none'),\n",
    "                  #Line2D([0], [0], color='black',marker='o', label='best, no established from X-ray',ls='none',alpha=0.5,markersize=5),\n",
    "                Line2D([0], [0], color='black',marker='o', label='2-200d periodogram best',ls='none',alpha=0.7,markersize=5),\n",
    "                  #Line2D([0], [0], color='grey', label='same source',alpha=0.7),\n",
    "                Line2D([0], [0],marker='s',markersize=12,label='type 4 sources (periods found manually)',markerfacecolor='none',markeredgecolor='rebeccapurple',ls='none'),\n",
    "                  Line2D([0], [0], marker='o',markerfacecolor='none',color=pink,markersize=12,alpha=0.8, label='phase-fold shown',ls='none')]\n",
    "ax1.legend(handles=legend_elements,loc='center right')\n",
    "\n",
    "# plt.savefig(f'SkewKurtosisMar23/skew_kurtosis_examples_periodogram.pdf',bbox_inches='tight') #just change last descriptor in iterations\n",
    "\n"
   ]
  },
  {
   "cell_type": "markdown",
   "metadata": {},
   "source": [
    "### version with \"best period\" using highest range"
   ]
  },
  {
   "cell_type": "markdown",
   "metadata": {},
   "source": [
    "### version with all periods for a source, connected with e.g., grey line"
   ]
  },
  {
   "cell_type": "markdown",
   "metadata": {},
   "source": [
    "### version emphasizing (which have) X-ray periods"
   ]
  },
  {
   "cell_type": "code",
   "execution_count": 55,
   "metadata": {},
   "outputs": [],
   "source": [
    "summ.to_csv('Feb23_summtab.csv',index=False)"
   ]
  },
  {
   "cell_type": "markdown",
   "metadata": {},
   "source": [
    "# Future Options\n",
    "- adapt 2021 code to do more analysis of phase-folded shapes\n",
    "- compare kurtosis vs. skew to Bird et al. 2012 approach"
   ]
  }
 ],
 "metadata": {
  "kernelspec": {
   "display_name": "Python 3",
   "language": "python",
   "name": "python3"
  },
  "language_info": {
   "codemirror_mode": {
    "name": "ipython",
    "version": 3
   },
   "file_extension": ".py",
   "mimetype": "text/x-python",
   "name": "python",
   "nbconvert_exporter": "python",
   "pygments_lexer": "ipython3",
   "version": "3.7.6"
  }
 },
 "nbformat": 4,
 "nbformat_minor": 4
}
