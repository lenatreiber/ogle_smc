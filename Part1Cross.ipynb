{
 "cells": [
  {
   "cell_type": "code",
   "execution_count": 1,
   "metadata": {},
   "outputs": [],
   "source": [
    "from uncertainties import ufloat\n",
    "from uncertainties.umath import *\n",
    "import math\n",
    "import numpy as np\n",
    "import matplotlib.pyplot as plt\n",
    "import pandas as pd\n",
    "from astropy.stats import LombScargle\n",
    "from scipy import signal\n",
    "%matplotlib inline\n",
    "import warnings\n",
    "warnings.filterwarnings(\"ignore\")\n",
    "import scipy.optimize\n",
    "# from lmfit.models import GaussianModel"
   ]
  },
  {
   "cell_type": "code",
   "execution_count": 131,
   "metadata": {},
   "outputs": [],
   "source": [
    "import glob"
   ]
  },
  {
   "cell_type": "code",
   "execution_count": 2,
   "metadata": {},
   "outputs": [],
   "source": [
    "c1 = 'cornflowerblue'\n",
    "c2 = 'navy'\n",
    "c3 = 'rebeccapurple'\n",
    "c4 = '#CF6275'\n",
    "c5 = 'maroon'"
   ]
  },
  {
   "cell_type": "code",
   "execution_count": 221,
   "metadata": {},
   "outputs": [],
   "source": [
    "#functions to save a figure\n",
    "def ps(name):\n",
    "    '''save as postscript file'''\n",
    "    plt.savefig(name+'.ps')\n",
    "def png(name,dpi=200):\n",
    "    '''save as png with sufficient quality'''\n",
    "    plt.savefig('Figs/'+name+'.png',dpi=dpi,bbox_inches='tight')"
   ]
  },
  {
   "cell_type": "markdown",
   "metadata": {},
   "source": [
    "# Identify Sources to Start With"
   ]
  },
  {
   "cell_type": "code",
   "execution_count": 108,
   "metadata": {},
   "outputs": [],
   "source": [
    "from astropy.table import Table,join,vstack,unique"
   ]
  },
  {
   "cell_type": "code",
   "execution_count": 59,
   "metadata": {},
   "outputs": [],
   "source": [
    "#load in names of OGLE sources in each of II,III,IV that is in part I (known pulsations)\n",
    "og2 = Table.read('smc_list/PART1_OII.list',names=['src_n','name1','name2'],format='ascii')\n",
    "og3 = Table.read('smc_list/PART1_OIII.list',names=['src_n','name1','name2'],format='ascii')\n",
    "og4 = Table.read('smc_list/PART1_OIV.list',names=['src_n','name1'],format='ascii')"
   ]
  },
  {
   "cell_type": "code",
   "execution_count": 73,
   "metadata": {},
   "outputs": [],
   "source": [
    "og4n = np.array(og4['src_n'])"
   ]
  },
  {
   "cell_type": "code",
   "execution_count": 80,
   "metadata": {},
   "outputs": [
    {
     "data": {
      "text/plain": [
       "63"
      ]
     },
     "execution_count": 80,
     "metadata": {},
     "output_type": "execute_result"
    }
   ],
   "source": [
    "len(og4n)"
   ]
  },
  {
   "cell_type": "code",
   "execution_count": 78,
   "metadata": {},
   "outputs": [
    {
     "data": {
      "text/plain": [
       "1"
      ]
     },
     "execution_count": 78,
     "metadata": {},
     "output_type": "execute_result"
    }
   ],
   "source": [
    "len(og4n[0])"
   ]
  },
  {
   "cell_type": "code",
   "execution_count": 84,
   "metadata": {},
   "outputs": [
    {
     "name": "stdout",
     "output_type": "stream",
     "text": [
      "4a\n",
      "14b\n",
      "22a\n",
      "34a\n",
      "40a\n"
     ]
    }
   ],
   "source": [
    "#make filter by only taking, for now, src numbers without letters\n",
    "int_inds = [0] #indices of integer src numbers\n",
    "# c = 0\n",
    "for i in range(1,len(og4n)):\n",
    "    if len(og4n[i])>len(og4n[i-1]) and len(og4n[i])>len(og4n[i+1]):\n",
    "        print(og4n[i])\n",
    "    else: int_inds.append(i)"
   ]
  },
  {
   "cell_type": "code",
   "execution_count": 85,
   "metadata": {},
   "outputs": [],
   "source": [
    "og4_filt = og4[int_inds]"
   ]
  },
  {
   "cell_type": "code",
   "execution_count": 94,
   "metadata": {},
   "outputs": [
    {
     "data": {
      "text/html": [
       "<i>Table length=3</i>\n",
       "<table id=\"table112301451088\" class=\"table-striped table-bordered table-condensed\">\n",
       "<thead><tr><th>src_n</th><th>name1</th></tr></thead>\n",
       "<thead><tr><th>str3</th><th>str15</th></tr></thead>\n",
       "<tr><td>2</td><td>smc732.03.3540</td></tr>\n",
       "<tr><td>3</td><td>smc720.17.50</td></tr>\n",
       "<tr><td>4</td><td>smc718.01.10792</td></tr>\n",
       "</table>"
      ],
      "text/plain": [
       "<Table length=3>\n",
       "src_n      name1     \n",
       " str3      str15     \n",
       "----- ---------------\n",
       "    2  smc732.03.3540\n",
       "    3    smc720.17.50\n",
       "    4 smc718.01.10792"
      ]
     },
     "execution_count": 94,
     "metadata": {},
     "output_type": "execute_result"
    }
   ],
   "source": [
    "og4_filt[:3]"
   ]
  },
  {
   "cell_type": "code",
   "execution_count": 95,
   "metadata": {},
   "outputs": [
    {
     "data": {
      "text/plain": [
       "dtype('<U3')"
      ]
     },
     "execution_count": 95,
     "metadata": {},
     "output_type": "execute_result"
    }
   ],
   "source": [
    "og4_filt['src_n'].dtype"
   ]
  },
  {
   "cell_type": "code",
   "execution_count": 101,
   "metadata": {},
   "outputs": [],
   "source": [
    "og4int = Table(og4_filt,dtype=('int32','str'))"
   ]
  },
  {
   "cell_type": "code",
   "execution_count": 102,
   "metadata": {},
   "outputs": [
    {
     "data": {
      "text/html": [
       "<i>Table length=2</i>\n",
       "<table id=\"table112301750224\" class=\"table-striped table-bordered table-condensed\">\n",
       "<thead><tr><th>src_n</th><th>name1</th></tr></thead>\n",
       "<thead><tr><th>int32</th><th>str15</th></tr></thead>\n",
       "<tr><td>2</td><td>smc732.03.3540</td></tr>\n",
       "<tr><td>3</td><td>smc720.17.50</td></tr>\n",
       "</table>"
      ],
      "text/plain": [
       "<Table length=2>\n",
       "src_n     name1     \n",
       "int32     str15     \n",
       "----- --------------\n",
       "    2 smc732.03.3540\n",
       "    3   smc720.17.50"
      ]
     },
     "execution_count": 102,
     "metadata": {},
     "output_type": "execute_result"
    }
   ],
   "source": [
    "og4int[:2]"
   ]
  },
  {
   "cell_type": "code",
   "execution_count": 111,
   "metadata": {},
   "outputs": [],
   "source": [
    "#table with src numbers and names from all three ogle\n",
    "allog = vstack([og2,og3,og4int])\n",
    "#only keep unique src numbers\n",
    "allog = unique(allog,keys='src_n')"
   ]
  },
  {
   "cell_type": "code",
   "execution_count": 43,
   "metadata": {},
   "outputs": [],
   "source": [
    "#cross-match with ascii file with all sources\n",
    "smc = Table.read('smc_x_m03_zar_match_OGLE_v2.ascii',format='ascii')"
   ]
  },
  {
   "cell_type": "code",
   "execution_count": 44,
   "metadata": {},
   "outputs": [
    {
     "data": {
      "text/html": [
       "<i>Table length=1</i>\n",
       "<table id=\"table112301513936\" class=\"table-striped table-bordered table-condensed\">\n",
       "<thead><tr><th>src_n</th><th>OGLE</th><th>RA_OGLE</th><th>DEC_OGLE</th><th>ra_deg</th><th>dec_deg</th><th>perr</th><th>period</th><th>Porb</th><th>_RAJ2000_1</th><th>_DEJ2000_1</th><th>__M2002_</th><th>Vmag_1</th><th>Separation_1</th><th>_RAJ2000_2</th><th>_DEJ2000_2</th><th>Vmag_2</th><th>recno</th><th>Separation</th></tr></thead>\n",
       "<thead><tr><th>int64</th><th>str38</th><th>str11</th><th>str11</th><th>float64</th><th>float64</th><th>float64</th><th>float64</th><th>float64</th><th>float64</th><th>float64</th><th>int64</th><th>float64</th><th>float64</th><th>float64</th><th>float64</th><th>float64</th><th>int64</th><th>float64</th></tr></thead>\n",
       "<tr><td>1</td><td>OGLE</td><td>RA</td><td>DEC</td><td>19.271511</td><td>-73.443405</td><td>0.5</td><td>0.717</td><td>3.892</td><td>19.27120833333333</td><td>-73.44333333333334</td><td>77458</td><td>13.15</td><td>0.4041071611446303</td><td>19.271369999999997</td><td>-73.44318999999999</td><td>13.152</td><td>5068334</td><td>0.7879504646408463</td></tr>\n",
       "</table>"
      ],
      "text/plain": [
       "<Table length=1>\n",
       "src_n  OGLE RA_OGLE DEC_OGLE ...  Vmag_2  recno      Separation    \n",
       "int64 str38  str11   str11   ... float64  int64       float64      \n",
       "----- ----- ------- -------- ... ------- ------- ------------------\n",
       "    1  OGLE      RA      DEC ...  13.152 5068334 0.7879504646408463"
      ]
     },
     "execution_count": 44,
     "metadata": {},
     "output_type": "execute_result"
    }
   ],
   "source": [
    "smc[:1]"
   ]
  },
  {
   "cell_type": "code",
   "execution_count": 113,
   "metadata": {},
   "outputs": [],
   "source": [
    "#smc just in part 1\n",
    "p1 = join(smc,allog,keys='src_n')"
   ]
  },
  {
   "cell_type": "markdown",
   "metadata": {},
   "source": [
    "58 sources total in part 1\n",
    "-later add sources with 'a'\n",
    "- start with a couple plots and then get into LCs"
   ]
  },
  {
   "cell_type": "code",
   "execution_count": 114,
   "metadata": {},
   "outputs": [
    {
     "data": {
      "text/plain": [
       "<TableColumns names=('src_n','OGLE','RA_OGLE','DEC_OGLE','ra_deg','dec_deg','perr','period','Porb','_RAJ2000_1','_DEJ2000_1','__M2002_','Vmag_1','Separation_1','_RAJ2000_2','_DEJ2000_2','Vmag_2','recno','Separation','name1','name2')>"
      ]
     },
     "execution_count": 114,
     "metadata": {},
     "output_type": "execute_result"
    }
   ],
   "source": [
    "p1.columns"
   ]
  },
  {
   "cell_type": "code",
   "execution_count": 129,
   "metadata": {},
   "outputs": [
    {
     "data": {
      "text/plain": [
       "Text(0.5, 0, 'Spin Period (s)')"
      ]
     },
     "execution_count": 129,
     "metadata": {},
     "output_type": "execute_result"
    },
    {
     "data": {
      "image/png": "[encoded data removed]",
      "text/plain": [
       "<Figure size 432x288 with 1 Axes>"
      ]
     },
     "metadata": {
      "needs_background": "light"
     },
     "output_type": "display_data"
    }
   ],
   "source": [
    "plt.scatter(p1['period'],p1['Porb'],color='black')\n",
    "plt.ylim(0,600)\n",
    "plt.ylabel('Orbital Period (days)')\n",
    "plt.xlabel('Spin Period (s)')"
   ]
  },
  {
   "cell_type": "markdown",
   "metadata": {},
   "source": [
    "# Example LC Using OII-OIV"
   ]
  },
  {
   "cell_type": "code",
   "execution_count": 123,
   "metadata": {},
   "outputs": [],
   "source": [
    "#find sources that are in all three og2-og4\n",
    "inall = join(og2,og3,keys='src_n')"
   ]
  },
  {
   "cell_type": "code",
   "execution_count": 125,
   "metadata": {},
   "outputs": [],
   "source": [
    "inall = join(inall,og4int,keys='src_n')"
   ]
  },
  {
   "cell_type": "code",
   "execution_count": 126,
   "metadata": {
    "collapsed": true,
    "jupyter": {
     "outputs_hidden": true
    }
   },
   "outputs": [
    {
     "data": {
      "text/html": [
       "<i>Table length=38</i>\n",
       "<table id=\"table112316360336\" class=\"table-striped table-bordered table-condensed\">\n",
       "<thead><tr><th>src_n</th><th>name1_1</th><th>name2_1</th><th>name1_2</th><th>name2_2</th><th>name1</th></tr></thead>\n",
       "<thead><tr><th>int64</th><th>str15</th><th>str15</th><th>str15</th><th>str14</th><th>str15</th></tr></thead>\n",
       "<tr><td>6</td><td>smc719.18.378</td><td>smc_sc7.266703</td><td>smc719.18.378</td><td>smc108.8.26225</td><td>smc719.18.378</td></tr>\n",
       "<tr><td>7</td><td>smc726.29.18</td><td>smc_sc9.146936</td><td>smc726.29.18</td><td>smc110.6.4726</td><td>smc726.29.18</td></tr>\n",
       "<tr><td>10</td><td>smc719.18.465</td><td>smc_sc8.46134</td><td>smc719.18.465</td><td>smc108.1.28028</td><td>smc719.18.465</td></tr>\n",
       "<tr><td>11</td><td>smc719.12.35646</td><td>smc_sc6.85614</td><td>smc719.12.35646</td><td>smc101.3.5189</td><td>smc719.12.35646</td></tr>\n",
       "<tr><td>12</td><td>smc720.28.40399</td><td>smc_sc5.111490</td><td>smc720.28.40399</td><td>smc100.7.58825</td><td>smc720.28.40399</td></tr>\n",
       "<tr><td>15</td><td>smc720.28.190</td><td>smc_sc4.156251</td><td>smc720.28.190</td><td>smc100.8.14642</td><td>smc720.28.190</td></tr>\n",
       "<tr><td>16</td><td>smc720.26.47</td><td>smc_sc6.99923</td><td>smc720.26.47</td><td>smc100.1.43671</td><td>smc720.26.47</td></tr>\n",
       "<tr><td>21</td><td>smc720.28.40482</td><td>smc_sc4.171264</td><td>smc720.28.40482</td><td>smc100.7.50768</td><td>smc720.28.40482</td></tr>\n",
       "<tr><td>24</td><td>smc719.19.162</td><td>smc_sc7.70829</td><td>smc719.19.162</td><td>smc108.8.8659</td><td>smc719.19.162</td></tr>\n",
       "<tr><td>24</td><td>smc719.19.162</td><td>smc_sc7.70829</td><td>smc719.19.162</td><td>smc105.5.31239</td><td>smc719.19.162</td></tr>\n",
       "<tr><td>...</td><td>...</td><td>...</td><td>...</td><td>...</td><td>...</td></tr>\n",
       "<tr><td>54</td><td>smc719.10.139</td><td>smc_sc7.47103</td><td>smc719.10.139</td><td>smc105.7.34184</td><td>smc719.10.139</td></tr>\n",
       "<tr><td>55</td><td>smc725.14.375</td><td>smc_sc9.175389</td><td>smc725.14.375</td><td>smc113.6.27948</td><td>smc725.14.375</td></tr>\n",
       "<tr><td>56</td><td>smc719.18.27563</td><td>smc_sc8.49531</td><td>smc719.18.27563</td><td>smc108.1.27992</td><td>smc719.18.27563</td></tr>\n",
       "<tr><td>57</td><td>smc719.19.125</td><td>smc_sc7.137527</td><td>smc719.19.125</td><td>smc105.5.31235</td><td>smc719.19.125</td></tr>\n",
       "<tr><td>58</td><td>smc719.10.33543</td><td>smc_sc7.129062</td><td>smc719.10.33543</td><td>smc105.6.33072</td><td>smc719.10.33543</td></tr>\n",
       "<tr><td>59</td><td>smc725.12.86</td><td>smc_sc10.137851</td><td>smc725.12.86</td><td>smc113.3.13361</td><td>smc725.12.86</td></tr>\n",
       "<tr><td>60</td><td>smc720.27.17</td><td>smc_sc5.90506</td><td>smc720.27.17</td><td>smc100.8.22235</td><td>smc720.27.17</td></tr>\n",
       "<tr><td>64</td><td>smc725.14.19468</td><td>smc_sc10.37138</td><td>smc725.14.19468</td><td>smc113.6.33350</td><td>smc725.14.19468</td></tr>\n",
       "<tr><td>65</td><td>smc719.19.181</td><td>smc_sc7.70843</td><td>smc719.19.181</td><td>smc108.8.8650</td><td>smc719.19.181</td></tr>\n",
       "<tr><td>125</td><td>smc726.30.25187</td><td>smc_sc9.114259</td><td>smc726.30.25187</td><td>smc110.5.6</td><td>smc726.30.25187</td></tr>\n",
       "</table>"
      ],
      "text/plain": [
       "<Table length=38>\n",
       "src_n     name1_1         name2_1     ...    name2_2          name1     \n",
       "int64      str15           str15      ...     str14           str15     \n",
       "----- --------------- --------------- ... -------------- ---------------\n",
       "    6   smc719.18.378  smc_sc7.266703 ... smc108.8.26225   smc719.18.378\n",
       "    7    smc726.29.18  smc_sc9.146936 ...  smc110.6.4726    smc726.29.18\n",
       "   10   smc719.18.465   smc_sc8.46134 ... smc108.1.28028   smc719.18.465\n",
       "   11 smc719.12.35646   smc_sc6.85614 ...  smc101.3.5189 smc719.12.35646\n",
       "   12 smc720.28.40399  smc_sc5.111490 ... smc100.7.58825 smc720.28.40399\n",
       "   15   smc720.28.190  smc_sc4.156251 ... smc100.8.14642   smc720.28.190\n",
       "   16    smc720.26.47   smc_sc6.99923 ... smc100.1.43671    smc720.26.47\n",
       "   21 smc720.28.40482  smc_sc4.171264 ... smc100.7.50768 smc720.28.40482\n",
       "   24   smc719.19.162   smc_sc7.70829 ...  smc108.8.8659   smc719.19.162\n",
       "   24   smc719.19.162   smc_sc7.70829 ... smc105.5.31239   smc719.19.162\n",
       "  ...             ...             ... ...            ...             ...\n",
       "   54   smc719.10.139   smc_sc7.47103 ... smc105.7.34184   smc719.10.139\n",
       "   55   smc725.14.375  smc_sc9.175389 ... smc113.6.27948   smc725.14.375\n",
       "   56 smc719.18.27563   smc_sc8.49531 ... smc108.1.27992 smc719.18.27563\n",
       "   57   smc719.19.125  smc_sc7.137527 ... smc105.5.31235   smc719.19.125\n",
       "   58 smc719.10.33543  smc_sc7.129062 ... smc105.6.33072 smc719.10.33543\n",
       "   59    smc725.12.86 smc_sc10.137851 ... smc113.3.13361    smc725.12.86\n",
       "   60    smc720.27.17   smc_sc5.90506 ... smc100.8.22235    smc720.27.17\n",
       "   64 smc725.14.19468  smc_sc10.37138 ... smc113.6.33350 smc725.14.19468\n",
       "   65   smc719.19.181   smc_sc7.70843 ...  smc108.8.8650   smc719.19.181\n",
       "  125 smc726.30.25187  smc_sc9.114259 ...     smc110.5.6 smc726.30.25187"
      ]
     },
     "execution_count": 126,
     "metadata": {},
     "output_type": "execute_result"
    }
   ],
   "source": [
    "inall"
   ]
  },
  {
   "cell_type": "code",
   "execution_count": 141,
   "metadata": {},
   "outputs": [],
   "source": [
    "#just grab the first source that's in all og\n",
    "#later can change indexing to just use src_n?\n",
    "src6 = p1[p1['src_n']==6]"
   ]
  },
  {
   "cell_type": "code",
   "execution_count": 139,
   "metadata": {},
   "outputs": [],
   "source": [
    "#files in I band folder of OGLE II\n",
    "iog2 = glob.glob('smc_list/OGLE-II/I/*')"
   ]
  },
  {
   "cell_type": "code",
   "execution_count": 174,
   "metadata": {},
   "outputs": [],
   "source": [
    "iog3 = glob.glob('smc_list/OGLE-III/I/*')\n",
    "iog4 = glob.glob('smc_list/OGLE-IV/I/*')"
   ]
  },
  {
   "cell_type": "code",
   "execution_count": 159,
   "metadata": {},
   "outputs": [
    {
     "data": {
      "text/plain": [
       "'smc_sc7.266703'"
      ]
     },
     "execution_count": 159,
     "metadata": {},
     "output_type": "execute_result"
    }
   ],
   "source": [
    "#how to isolate string of name\n",
    "name6 = src6['name2'][0]\n",
    "name6"
   ]
  },
  {
   "cell_type": "code",
   "execution_count": 177,
   "metadata": {},
   "outputs": [
    {
     "data": {
      "text/plain": [
       "'smc719.18.378'"
      ]
     },
     "execution_count": 177,
     "metadata": {},
     "output_type": "execute_result"
    }
   ],
   "source": [
    "name6_1 = src6['name1'][0]\n",
    "name6_1"
   ]
  },
  {
   "cell_type": "code",
   "execution_count": 161,
   "metadata": {},
   "outputs": [
    {
     "name": "stdout",
     "output_type": "stream",
     "text": [
      "smc_list/OGLE-II/I/smc_sc7.266703.dat\n"
     ]
    }
   ],
   "source": [
    "#loop thru files to find file with this src name\n",
    "for i in iog2:\n",
    "    if name6 in i:\n",
    "        print(i)\n",
    "        src6og2i = i"
   ]
  },
  {
   "cell_type": "code",
   "execution_count": 192,
   "metadata": {},
   "outputs": [],
   "source": [
    "name6_og3 = og3[og3['src_n']==6]['name2'][0]"
   ]
  },
  {
   "cell_type": "code",
   "execution_count": 193,
   "metadata": {},
   "outputs": [
    {
     "data": {
      "text/plain": [
       "'smc108.8.26225'"
      ]
     },
     "execution_count": 193,
     "metadata": {},
     "output_type": "execute_result"
    }
   ],
   "source": [
    "name6_og3"
   ]
  },
  {
   "cell_type": "code",
   "execution_count": 194,
   "metadata": {},
   "outputs": [
    {
     "name": "stdout",
     "output_type": "stream",
     "text": [
      "smc_list/OGLE-III/I/smc108.8.26225.dat\n"
     ]
    }
   ],
   "source": [
    "#repeat for other two file lists\n",
    "#see note below about this\n",
    "for i in iog3:\n",
    "    if name6_og3 in i:\n",
    "        print(i)\n",
    "        src6og3i = i"
   ]
  },
  {
   "cell_type": "code",
   "execution_count": 188,
   "metadata": {},
   "outputs": [
    {
     "name": "stdout",
     "output_type": "stream",
     "text": [
      "smc_list/OGLE-IV/I/smc719.18.378.dat\n"
     ]
    }
   ],
   "source": [
    "for i in iog4:\n",
    "    if name6_1 in i or name6 in i:\n",
    "        print(i)\n",
    "        src6og4i = i"
   ]
  },
  {
   "cell_type": "markdown",
   "metadata": {},
   "source": [
    "will have to use names from original tables rather than merged\n",
    "- example here where the names taken from the merged part 1 list won't work on og3; need original og3 table"
   ]
  },
  {
   "cell_type": "code",
   "execution_count": 213,
   "metadata": {},
   "outputs": [],
   "source": [
    "#load in lightcurve\n",
    "#just means I band og2 for src 6\n",
    "i26 = Table.read(src6og2i,format='ascii',names=['MJD-50000','I mag','I mag err'])\n",
    "i36 = Table.read(src6og3i,format='ascii',names=['MJD-50000','I mag','I mag err'])\n",
    "i46 = Table.read(src6og4i,format='ascii',names=['MJD-50000','I mag','I mag err'])"
   ]
  },
  {
   "cell_type": "code",
   "execution_count": 203,
   "metadata": {},
   "outputs": [],
   "source": [
    "iog4cal = glob.glob('smc_list/OGLE-IV/I/CALIBRATED/*')"
   ]
  },
  {
   "cell_type": "code",
   "execution_count": 204,
   "metadata": {},
   "outputs": [
    {
     "name": "stdout",
     "output_type": "stream",
     "text": [
      "smc_list/OGLE-IV/I/CALIBRATED/smc719.18.378.dat\n"
     ]
    }
   ],
   "source": [
    "#find calibrated version\n",
    "for i in iog4cal:\n",
    "    if name6_1 in i or name6 in i:\n",
    "        print(i)\n",
    "        src6og4ical = i"
   ]
  },
  {
   "cell_type": "code",
   "execution_count": 212,
   "metadata": {},
   "outputs": [],
   "source": [
    "#compare to og4 calibrated version\n",
    "i46cal = Table.read(src6og4ical,format='ascii',names=['MJD-50000','I mag','I mag err'])"
   ]
  },
  {
   "cell_type": "code",
   "execution_count": 222,
   "metadata": {},
   "outputs": [
    {
     "data": {
      "image/png": "[encoded data removed]",
      "text/plain": [
       "<Figure size 864x288 with 1 Axes>"
      ]
     },
     "metadata": {
      "needs_background": "light"
     },
     "output_type": "display_data"
    }
   ],
   "source": [
    "plt.figure(figsize=(12,4))\n",
    "plt.scatter(i26['MJD-50000'],i26['I mag'],color='navy',s=4,label='OII')\n",
    "plt.scatter(i36['MJD-50000'],i36['I mag'],color='maroon',s=4,label='OIII')\n",
    "plt.scatter(i46['MJD-50000'],i46['I mag'],color='black',s=4,label='OIV regular')\n",
    "plt.scatter(i46cal['MJD-50000'],i46cal['I mag'],color='darkseagreen',s=4,label='OIV calibrated folder')\n",
    "plt.legend()\n",
    "plt.ylabel('OGLE I mag')\n",
    "plt.xlabel('MJD-50000')\n",
    "plt.title('src_n 6: '+name6)\n",
    "# png('src6cal')"
   ]
  },
  {
   "cell_type": "markdown",
   "metadata": {},
   "source": [
    "# Automatic Periodogram, V-I, and LC zoom-in\n",
    "- see how succesfully it picks out diff trends if periodograms are done on different scales\n",
    "- fold with known orbital period"
   ]
  },
  {
   "cell_type": "code",
   "execution_count": 229,
   "metadata": {},
   "outputs": [
    {
     "data": {
      "text/plain": [
       "Text(0.5, 0, 'MJD-50000')"
      ]
     },
     "execution_count": 229,
     "metadata": {},
     "output_type": "execute_result"
    },
    {
     "data": {
      "image/png": "[encoded data removed]",
      "text/plain": [
       "<Figure size 864x288 with 1 Axes>"
      ]
     },
     "metadata": {
      "needs_background": "light"
     },
     "output_type": "display_data"
    }
   ],
   "source": [
    "plt.figure(figsize=(12,4))\n",
    "plt.scatter(i26['MJD-50000'],i26['I mag'],color='navy',s=4,label='OII')\n",
    "plt.scatter(i36['MJD-50000'],i36['I mag'],color='maroon',s=4,label='OIII')\n",
    "plt.scatter(i46['MJD-50000'],i46['I mag'],color='black',s=4,label='OIV regular')\n",
    "plt.scatter(i46cal['MJD-50000'],i46cal['I mag'],color='darkseagreen',s=4,label='OIV calibrated folder')\n",
    "plt.legend()\n",
    "plt.ylim(16.1,15.5)\n",
    "plt.ylabel('OGLE I mag')\n",
    "plt.xlabel('MJD-50000')"
   ]
  },
  {
   "cell_type": "code",
   "execution_count": 226,
   "metadata": {},
   "outputs": [
    {
     "data": {
      "text/html": [
       "&lt;MaskedColumn name=&apos;Porb&apos; dtype=&apos;float64&apos; length=1&gt;\n",
       "<table>\n",
       "<tr><td>17.2</td></tr>\n",
       "</table>"
      ],
      "text/plain": [
       "<MaskedColumn name='Porb' dtype='float64' length=1>\n",
       "17.2"
      ]
     },
     "execution_count": 226,
     "metadata": {},
     "output_type": "execute_result"
    }
   ],
   "source": [
    "#fold with known orbital period -- after detrending?\n",
    "src6['Porb']"
   ]
  },
  {
   "cell_type": "code",
   "execution_count": 238,
   "metadata": {},
   "outputs": [
    {
     "name": "stdout",
     "output_type": "stream",
     "text": [
      "Smooth (window =  201 ) and detrend data...\n",
      "Average I band magnitude 15.74005629139073\n",
      "min: 15.625120968007648 max: 15.871489127211625\n"
     ]
    }
   ],
   "source": [
    "Imag=i26['I mag']\n",
    "window=201 #also tested other windows to make sure periodogram results unaffected\n",
    "print('Smooth (window = ', window, ') and detrend data...')\n",
    "Ismooth = signal.savgol_filter(Imag, window, 1)\n",
    "Imean = np.mean(Imag)\n",
    "print('Average I band magnitude', Imean)\n",
    "i26['I detrend'] = Imag-Ismooth  + Imag.mean()\n",
    "\n",
    "print('min:',i26['I detrend'].min(),'max:',i26['I detrend'].max())"
   ]
  },
  {
   "cell_type": "code",
   "execution_count": 265,
   "metadata": {},
   "outputs": [],
   "source": [
    "#detrending function\n",
    "def detrend(tab,window=201,printall=False,plot=False):\n",
    "    Imag = tab['I mag']\n",
    "    if printall: print('Smooth (window = ', window, ') and detrend data...')\n",
    "    Ismooth = signal.savgol_filter(Imag, window, 1)\n",
    "    Imean = np.mean(Imag)\n",
    "    if printall: print('Average I band magnitude', Imean)\n",
    "    tab['I detrend'] = Imag-Ismooth  + Imag.mean()\n",
    "\n",
    "    if printall: print('min:',i26['I detrend'].min(),'max:',i26['I detrend'].max())\n",
    "    if plot:\n",
    "        plt.scatter(tab['MJD-50000'],tab['I mag'],color='black',label='original')\n",
    "        plt.scatter(tab['MJD-50000'],tab['I detrend'],color='darkseagreen',label='detrended')\n",
    "        plt.legend()"
   ]
  },
  {
   "cell_type": "code",
   "execution_count": 277,
   "metadata": {},
   "outputs": [
    {
     "data": {
      "image/png": "[encoded data removed]",
      "text/plain": [
       "<Figure size 432x288 with 1 Axes>"
      ]
     },
     "metadata": {
      "needs_background": "light"
     },
     "output_type": "display_data"
    }
   ],
   "source": [
    "#can detrend small part\n",
    "smalli26 = i26[:100]\n",
    "detrend(smalli26,window=5,plot=True)"
   ]
  },
  {
   "cell_type": "code",
   "execution_count": 294,
   "metadata": {
    "collapsed": true,
    "jupyter": {
     "outputs_hidden": true
    }
   },
   "outputs": [
    {
     "data": {
      "text/latex": [
       "$18.13644 \\; \\mathrm{}$"
      ],
      "text/plain": [
       "<Quantity 18.13644034>"
      ]
     },
     "execution_count": 294,
     "metadata": {},
     "output_type": "execute_result"
    },
    {
     "data": {
      "text/plain": [
       "<Figure size 576x288 with 0 Axes>"
      ]
     },
     "metadata": {},
     "output_type": "display_data"
    },
    {
     "data": {
      "image/png": "[encoded data removed]",
      "text/plain": [
       "<Figure size 288x216 with 1 Axes>"
      ]
     },
     "metadata": {
      "needs_background": "light"
     },
     "output_type": "display_data"
    },
    {
     "data": {
      "text/plain": [
       "<Figure size 576x288 with 0 Axes>"
      ]
     },
     "metadata": {},
     "output_type": "display_data"
    },
    {
     "data": {
      "image/png": "[encoded data removed]",
      "text/plain": [
       "<Figure size 288x216 with 1 Axes>"
      ]
     },
     "metadata": {
      "needs_background": "light"
     },
     "output_type": "display_data"
    }
   ],
   "source": [
    "periodogram(smalli26,detrend=True,minp=15)\n",
    "periodogram(smalli26,minp=15)"
   ]
  },
  {
   "cell_type": "code",
   "execution_count": 271,
   "metadata": {},
   "outputs": [
    {
     "data": {
      "image/png": "[encoded data removed]",
      "text/plain": [
       "<Figure size 432x288 with 1 Axes>"
      ]
     },
     "metadata": {
      "needs_background": "light"
     },
     "output_type": "display_data"
    }
   ],
   "source": [
    "detrend(i26,window=11,plot=True)"
   ]
  },
  {
   "cell_type": "code",
   "execution_count": 301,
   "metadata": {},
   "outputs": [],
   "source": [
    "def periodogram(tab,det=False,more=False,minp=5,maxp=30,bayes=False,sub=False,figsize=(4,3),plot=True,dodetrend=False,window=11):\n",
    "    '''Perform and plot single LS periodogram.\n",
    "    Two different return options.'''\n",
    "    \n",
    "    t = tab['MJD-50000']\n",
    "    if dodetrend:\n",
    "        #decide whether to actually modify tab or create copy just for periodogram\n",
    "        detrend(tab,window=window)\n",
    "    if det: y = tab['I detrend']\n",
    "    else: y = tab['I mag']\n",
    "    dy = tab['I mag err']\n",
    "    fig = plt.figure(figsize=(8, 4))\n",
    "    minf = 1./maxp\n",
    "    maxf = 1./minp\n",
    "    ls = LombScargle(t, y)\n",
    "    freq, power = ls.autopower(normalization='standard',\n",
    "                           minimum_frequency=minf,\n",
    "                           maximum_frequency=maxf,\n",
    "                           samples_per_peak=10)\n",
    "    if bayes: power = np.exp(power)\n",
    "        \n",
    "    best_freq = freq[np.argmax(power)]\n",
    "\n",
    "    if plot:\n",
    "        fig = plt.figure(figsize=figsize)\n",
    "        plt.plot(1/freq,power,color='black')\n",
    "        plt.xlabel('Period',fontsize=14)\n",
    "        plt.ylabel('Power',fontsize=14)\n",
    "        #put text with best period\n",
    "        plt.text(minp+(maxp-minp)/2,0.8*np.max(power),f'{1/best_freq:2f}')\n",
    "    if more:\n",
    "        return freq, power, 1/best_freq\n",
    "    else:\n",
    "        return 1/best_freq"
   ]
  },
  {
   "cell_type": "code",
   "execution_count": 272,
   "metadata": {},
   "outputs": [
    {
     "data": {
      "text/latex": [
       "$17.12436 \\; \\mathrm{}$"
      ],
      "text/plain": [
       "<Quantity 17.12436026>"
      ]
     },
     "execution_count": 272,
     "metadata": {},
     "output_type": "execute_result"
    },
    {
     "data": {
      "image/png": "[encoded data removed]",
      "text/plain": [
       "<Figure size 576x288 with 1 Axes>"
      ]
     },
     "metadata": {
      "needs_background": "light"
     },
     "output_type": "display_data"
    }
   ],
   "source": [
    "periodogram(i26,det=True,minp=15) #varies by detrending window, so maybe can try a few and plot results as function of window"
   ]
  },
  {
   "cell_type": "code",
   "execution_count": 251,
   "metadata": {
    "collapsed": true,
    "jupyter": {
     "outputs_hidden": true
    }
   },
   "outputs": [
    {
     "data": {
      "text/latex": [
       "$17.373703 \\; \\mathrm{}$"
      ],
      "text/plain": [
       "<Quantity 17.37370255>"
      ]
     },
     "execution_count": 251,
     "metadata": {},
     "output_type": "execute_result"
    },
    {
     "data": {
      "image/png": "[encoded data removed]",
      "text/plain": [
       "<Figure size 576x288 with 1 Axes>"
      ]
     },
     "metadata": {
      "needs_background": "light"
     },
     "output_type": "display_data"
    },
    {
     "data": {
      "image/png": "[encoded data removed]",
      "text/plain": [
       "<Figure size 576x288 with 1 Axes>"
      ]
     },
     "metadata": {
      "needs_background": "light"
     },
     "output_type": "display_data"
    },
    {
     "data": {
      "image/png": "[encoded data removed]",
      "text/plain": [
       "<Figure size 576x288 with 1 Axes>"
      ]
     },
     "metadata": {
      "needs_background": "light"
     },
     "output_type": "display_data"
    }
   ],
   "source": [
    "#trying to get orbital period with two larger underlying trends still thre\n",
    "periodogram(i26,det=True,minp=15)\n",
    "periodogram(i36,minp=15)\n",
    "periodogram(i46,minp=15)"
   ]
  },
  {
   "cell_type": "code",
   "execution_count": 257,
   "metadata": {
    "collapsed": true,
    "jupyter": {
     "outputs_hidden": true
    }
   },
   "outputs": [
    {
     "name": "stdout",
     "output_type": "stream",
     "text": [
      "18.136440341418286\n",
      "26.652046512001824\n"
     ]
    },
    {
     "data": {
      "text/latex": [
       "$21.548982 \\; \\mathrm{}$"
      ],
      "text/plain": [
       "<Quantity 21.54898214>"
      ]
     },
     "execution_count": 257,
     "metadata": {},
     "output_type": "execute_result"
    },
    {
     "data": {
      "image/png": "[encoded data removed]",
      "text/plain": [
       "<Figure size 576x288 with 1 Axes>"
      ]
     },
     "metadata": {
      "needs_background": "light"
     },
     "output_type": "display_data"
    },
    {
     "data": {
      "image/png": "[encoded data removed]",
      "text/plain": [
       "<Figure size 576x288 with 1 Axes>"
      ]
     },
     "metadata": {
      "needs_background": "light"
     },
     "output_type": "display_data"
    },
    {
     "data": {
      "image/png": "[encoded data removed]",
      "text/plain": [
       "<Figure size 576x288 with 1 Axes>"
      ]
     },
     "metadata": {
      "needs_background": "light"
     },
     "output_type": "display_data"
    }
   ],
   "source": [
    "#trying to get orbital period by just taking smaller window\n",
    "print(periodogram(i26[:100],deet=True,minp=15))\n",
    "print(periodogram(i36[:100],minp=15))\n",
    "periodogram(i46[:100],minp=15)"
   ]
  },
  {
   "cell_type": "code",
   "execution_count": 304,
   "metadata": {},
   "outputs": [
    {
     "data": {
      "text/latex": [
       "$17.373703 \\; \\mathrm{}$"
      ],
      "text/plain": [
       "<Quantity 17.37370255>"
      ]
     },
     "execution_count": 304,
     "metadata": {},
     "output_type": "execute_result"
    },
    {
     "data": {
      "text/plain": [
       "<Figure size 576x288 with 0 Axes>"
      ]
     },
     "metadata": {},
     "output_type": "display_data"
    },
    {
     "data": {
      "image/png": "[encoded data removed]",
      "text/plain": [
       "<Figure size 288x216 with 1 Axes>"
      ]
     },
     "metadata": {
      "needs_background": "light"
     },
     "output_type": "display_data"
    },
    {
     "data": {
      "text/plain": [
       "<Figure size 576x288 with 0 Axes>"
      ]
     },
     "metadata": {},
     "output_type": "display_data"
    },
    {
     "data": {
      "image/png": "[encoded data removed]",
      "text/plain": [
       "<Figure size 288x216 with 1 Axes>"
      ]
     },
     "metadata": {
      "needs_background": "light"
     },
     "output_type": "display_data"
    }
   ],
   "source": [
    "periodogram(i36,minp=10,det=True,dodetrend=True,window=5)\n",
    "periodogram(i46,minp=10,det=True,dodetrend=True,window=5)"
   ]
  },
  {
   "cell_type": "markdown",
   "metadata": {},
   "source": [
    "going forward can do some number of points as window or some range of time based on known period, regardless of sampling"
   ]
  },
  {
   "cell_type": "markdown",
   "metadata": {
    "jupyter": {
     "source_hidden": true
    }
   },
   "source": [
    "# Review So Far\n",
    "- steps\n",
    "    - grab names from original og2, og3, og4 tables after taking src from merged\n",
    "    - also grab and print orbital period (and any other relevant table data)\n",
    "    - identify I and V band files in glob lists\n",
    "    - plot full LC \n",
    "    - plot two levels of zoom in, one informed by orbital period\n",
    "        - identify a window that repeats the orbital period a few times and make separate table\n",
    "        - helpful for plot limits and detrending\n",
    "    - do a few iterations of detrending and periodograms\n",
    "        - some range of large-scale pattern search using all three tables\n",
    "        - within each table and overall look for medium-sized trend with and without detrending (large window)\n",
    "        - smallest scale variation (for now): probs the orbital period\n",
    "            - smaller detrending window and run periodogram within each og\n",
    "            - phase-fold\n",
    "            \n",
    "- plots and numbers to return\n",
    "    - full LC\n",
    "    - two scales of zoom in (informed by multiples of orbital period)\n",
    "    - a bunch of periodogram results can be arranged in a table\n",
    "    - periodogram number results on full LC, on each OG (for first pass at changing period)\n",
    "    - periodogram results on smaller/medium windows, with and without detrending \n",
    "    - phase-folded plots? maybe if above some power..."
   ]
  },
  {
   "cell_type": "markdown",
   "metadata": {},
   "source": [
    "# Adding V-I for Same Source\n",
    "- probably will want to do interpolation --> V-I --> plot line of best fit and give sense of outliers (maybe outliers as function of brightness)\n"
   ]
  },
  {
   "cell_type": "code",
   "execution_count": 314,
   "metadata": {},
   "outputs": [
    {
     "data": {
      "text/plain": [
       "17.2"
      ]
     },
     "execution_count": 314,
     "metadata": {},
     "output_type": "execute_result"
    }
   ],
   "source": [
    "p1[p1['src_n']==6]['Porb'][0]\n"
   ]
  },
  {
   "cell_type": "code",
   "execution_count": 339,
   "metadata": {},
   "outputs": [],
   "source": [
    "def findfiles(srcnum,band='I',ogs=['II','III','IV']):\n",
    "    '''Return a table for each requested file for one source\n",
    "    Probably better to do all name cross-referencing rather than looping over and over\n",
    "    But can use some of these techniques (still loop but after each success take out of lists)'''\n",
    "    #get row from full table\n",
    "    row = p1[p1['src_n']==srcnum]\n",
    "    print('orbital period: ',row['Porb'][0])\n",
    "    n1 = row['name1'][0]\n",
    "    n2 = row['name2'][0]\n",
    "    print('n1,n2:',n1,n2)\n",
    "\n",
    "    #later can restructure to pass in og tables instead of II,III,IV\n",
    "    lcs = []\n",
    "    if 'II' in ogs:\n",
    "        #get names from og2 table; assumes these tables exist in notebook so can change to arg later\n",
    "        name1 = og2[og2['src_n']==srcnum]['name1'][0]\n",
    "        name2 = og2[og2['src_n']==srcnum]['name2'][0]\n",
    "        print(name1,name2)\n",
    "        #glob files from directory of OII for V or I\n",
    "        og2files = glob.glob('smc_list/OGLE-II/'+band+'/*')\n",
    "        for i in og2files:\n",
    "            #can refine this to just be whichever is relevant for a given band or og\n",
    "            if name1 in i or name2 in i or n1 in i or n2 in i:\n",
    "                print(i)\n",
    "                og2lc = i\n",
    "                lcs.append(og2lc)\n",
    "    if 'III' in ogs:\n",
    "        #get names from og2 table; assumes these tables exist in notebook so can change to arg later\n",
    "        name1 = og3[og3['src_n']==srcnum]['name1'][0]\n",
    "        name2 = og3[og3['src_n']==srcnum]['name2'][0]\n",
    "        print(name1,name2)\n",
    "\n",
    "        #glob files from directory of OII for V or I\n",
    "        og3files = glob.glob('smc_list/OGLE-III/'+band+'/*')\n",
    "        for i in og3files:\n",
    "            #can refine this to just be whichever is relevant for a given band or og\n",
    "            if name1 in i or name2 in i or n1 in i or n2 in i:\n",
    "                print(i)\n",
    "                og3lc = i\n",
    "                lcs.append(og3lc)\n",
    "    if 'IV' in ogs:\n",
    "        #get names from og2 table; assumes these tables exist in notebook so can change to arg later\n",
    "        name1 = og4int[og4int['src_n']==srcnum]['name1'][0]\n",
    "        print(name1)\n",
    "        #glob files from directory of OII for V or I\n",
    "        og4files = glob.glob('smc_list/OGLE-IV/'+band+'/CALIBRATED/*')\n",
    "        for i in og4files:\n",
    "            #can refine this to just be whichever is relevant for a given band or og\n",
    "            if name1 in i or n1 in i or n2 in i:\n",
    "                print(i)\n",
    "                og4lc = i\n",
    "                lcs.append(og4lc)\n",
    "    return lcs"
   ]
  },
  {
   "cell_type": "code",
   "execution_count": 340,
   "metadata": {},
   "outputs": [
    {
     "name": "stdout",
     "output_type": "stream",
     "text": [
      "orbital period:  17.2\n",
      "n1,n2: smc719.18.378 smc_sc7.266703\n",
      "smc719.18.378 smc_sc7.266703\n",
      "smc_list/OGLE-II/V/smc_sc7.266703.dat\n",
      "smc719.18.378 smc108.8.26225\n",
      "smc719.18.378\n"
     ]
    }
   ],
   "source": [
    "vlcs6 = findfiles(6,band='V') #not finding OIII and OIV V band files\n",
    "#method does work for I band"
   ]
  },
  {
   "cell_type": "code",
   "execution_count": 353,
   "metadata": {},
   "outputs": [],
   "source": [
    "v26 = Table.read(vlcs6[0],format='ascii',names=['MJD-50000','V mag','V mag err'])"
   ]
  },
  {
   "cell_type": "code",
   "execution_count": 363,
   "metadata": {},
   "outputs": [
    {
     "data": {
      "text/plain": [
       "(15.951, 15.562)"
      ]
     },
     "execution_count": 363,
     "metadata": {},
     "output_type": "execute_result"
    },
    {
     "data": {
      "image/png": "[encoded data removed]",
      "text/plain": [
       "<Figure size 432x288 with 1 Axes>"
      ]
     },
     "metadata": {
      "needs_background": "light"
     },
     "output_type": "display_data"
    }
   ],
   "source": [
    "#plot I and V band data\n",
    "plt.scatter(v26['MJD-50000'],v26['V mag'],color='navy',s=4)\n",
    "plt.scatter(i26['MJD-50000'],i26['I mag'],color=c4,s=4)\n",
    "plt.ylim(np.max(v26['V mag'])+.05,np.min(i26['I mag'])-.05)"
   ]
  },
  {
   "cell_type": "code",
   "execution_count": 360,
   "metadata": {},
   "outputs": [],
   "source": [
    "#interpolate I and plot V vs. V-I etc.\n",
    "i_interp6 = np.interp(v26['MJD-50000'],i26['MJD-50000'],i26['I mag'])\n"
   ]
  },
  {
   "cell_type": "code",
   "execution_count": 366,
   "metadata": {},
   "outputs": [
    {
     "data": {
      "text/plain": [
       "(15.951, 15.562)"
      ]
     },
     "execution_count": 366,
     "metadata": {},
     "output_type": "execute_result"
    },
    {
     "data": {
      "image/png": "[encoded data removed]",
      "text/plain": [
       "<Figure size 432x288 with 1 Axes>"
      ]
     },
     "metadata": {
      "needs_background": "light"
     },
     "output_type": "display_data"
    }
   ],
   "source": [
    "#plot I and V band data\n",
    "plt.scatter(v26['MJD-50000'],v26['V mag'],color='navy',s=4)\n",
    "plt.scatter(i26['MJD-50000'],i26['I mag'],color=c4,s=4)\n",
    "#interpolated I band at V \n",
    "plt.scatter(v26['MJD-50000'],i_interp6,color=c5,s=4)\n",
    "\n",
    "plt.ylim(np.max(v26['V mag'])+.05,np.min(i26['I mag'])-.05)"
   ]
  },
  {
   "cell_type": "code",
   "execution_count": 368,
   "metadata": {
    "collapsed": true,
    "jupyter": {
     "outputs_hidden": true
    }
   },
   "outputs": [
    {
     "data": {
      "text/plain": [
       "<matplotlib.collections.PathCollection at 0x1a296c2690>"
      ]
     },
     "execution_count": 368,
     "metadata": {},
     "output_type": "execute_result"
    },
    {
     "data": {
      "image/png": "[encoded data removed]",
      "text/plain": [
       "<Figure size 432x288 with 1 Axes>"
      ]
     },
     "metadata": {
      "needs_background": "light"
     },
     "output_type": "display_data"
    }
   ],
   "source": [
    "#plot V vs V-I\n",
    "plt.scatter(v26['V mag'],v26['V mag']-i_interp6,color='navy')\n"
   ]
  },
  {
   "cell_type": "code",
   "execution_count": 379,
   "metadata": {},
   "outputs": [
    {
     "data": {
      "text/plain": [
       "(15.82, 15.625)"
      ]
     },
     "execution_count": 379,
     "metadata": {},
     "output_type": "execute_result"
    },
    {
     "data": {
      "image/png": "[encoded data removed]",
      "text/plain": [
       "<Figure size 432x288 with 1 Axes>"
      ]
     },
     "metadata": {
      "needs_background": "light"
     },
     "output_type": "display_data"
    }
   ],
   "source": [
    "#plot I_int vs. V-I\n",
    "#seems to ususally look better?\n",
    "#positive corr would be redder when brighter\n",
    "plt.scatter(v26['V mag']-i_interp6,i_interp6,color=c4)\n",
    "plt.xlabel('$\\mathrm{V-I_{int}}$',fontsize=13)\n",
    "plt.ylabel('$\\mathrm{I_{int}}$',fontsize=13)\n",
    "plt.ylim(15.82,15.625)"
   ]
  },
  {
   "cell_type": "markdown",
   "metadata": {},
   "source": [
    "#### add best fit line and correlation or residuals"
   ]
  },
  {
   "cell_type": "markdown",
   "metadata": {},
   "source": [
    "# Cross-Referencing Function\n",
    "- so that files matched with objects\n",
    "\n",
    "- src numbers from p1 table (as well as orbital periods)\n",
    "- go by folder\n",
    "    - e.g. get files in OII I band folder --> "
   ]
  },
  {
   "cell_type": "code",
   "execution_count": 383,
   "metadata": {},
   "outputs": [
    {
     "data": {
      "text/html": [
       "<i>Table length=2</i>\n",
       "<table id=\"table112355709648\" class=\"table-striped table-bordered table-condensed\">\n",
       "<thead><tr><th>src_n</th><th>OGLE</th><th>RA_OGLE</th><th>DEC_OGLE</th><th>ra_deg</th><th>dec_deg</th><th>perr</th><th>period</th><th>Porb</th><th>_RAJ2000_1</th><th>_DEJ2000_1</th><th>__M2002_</th><th>Vmag_1</th><th>Separation_1</th><th>_RAJ2000_2</th><th>_DEJ2000_2</th><th>Vmag_2</th><th>recno</th><th>Separation</th><th>name1</th><th>name2</th></tr></thead>\n",
       "<thead><tr><th>int64</th><th>str38</th><th>str11</th><th>str11</th><th>float64</th><th>float64</th><th>float64</th><th>float64</th><th>float64</th><th>float64</th><th>float64</th><th>int64</th><th>float64</th><th>float64</th><th>float64</th><th>float64</th><th>float64</th><th>int64</th><th>float64</th><th>str15</th><th>str15</th></tr></thead>\n",
       "<tr><td>2</td><td>SMC732.03 \\#3540</td><td>01:21:40.61</td><td>-72:57:30.9</td><td>20.41893</td><td>-72.95907</td><td>2.0</td><td>2.165</td><td>84.0</td><td>20.418999999999993</td><td>-72.95847222222221</td><td>80352</td><td>14.28</td><td>2.147142505236131</td><td>--</td><td>--</td><td>--</td><td>--</td><td>--</td><td>smc732.03.3540</td><td>smc120.1.5</td></tr>\n",
       "<tr><td>3</td><td>SMC720.17 \\#50</td><td>00:54:33.44</td><td>-73:41:01.3</td><td>13.639167</td><td>-73.68364</td><td>0.8</td><td>2.37</td><td>18.38</td><td>13.639333333333331</td><td>-73.68369444444444</td><td>30492</td><td>14.51</td><td>0.2597014565010407</td><td>13.639544999999995</td><td>-73.68356999999999</td><td>14.729</td><td>2675272</td><td>0.4570936647419033</td><td>smc720.17.50</td><td>smc107.5.22</td></tr>\n",
       "</table>"
      ],
      "text/plain": [
       "<Table length=2>\n",
       "src_n       OGLE         RA_OGLE   ...     name1         name2   \n",
       "int64      str38          str11    ...     str15         str15   \n",
       "----- ---------------- ----------- ... -------------- -----------\n",
       "    2 SMC732.03 \\#3540 01:21:40.61 ... smc732.03.3540  smc120.1.5\n",
       "    3   SMC720.17 \\#50 00:54:33.44 ...   smc720.17.50 smc107.5.22"
      ]
     },
     "execution_count": 383,
     "metadata": {},
     "output_type": "execute_result"
    }
   ],
   "source": [
    "p1[:2] #could also just add to this table but easier for now to make smaller one; can always stack them"
   ]
  },
  {
   "cell_type": "code",
   "execution_count": 464,
   "metadata": {},
   "outputs": [],
   "source": [
    "#make table with source number, file names, orbital period\n",
    "arr = {'src_n': p1['src_n'],\n",
    "       'Porb': p1['Porb'],\n",
    "       'RA_OGLE': p1['RA_OGLE'],\n",
    "      'DEC_OGLE': p1['DEC_OGLE']}\n",
    "filetab = Table(arr)\n",
    "# filetab = Table(names=['src_n','Porb','RA_OGLE','DEC_OGLE','OII I','OIII I','OIV I','OII V','OIII V','OIV V'])"
   ]
  },
  {
   "cell_type": "code",
   "execution_count": 465,
   "metadata": {},
   "outputs": [
    {
     "data": {
      "text/html": [
       "<i>Table length=2</i>\n",
       "<table id=\"table112355932560\" class=\"table-striped table-bordered table-condensed\">\n",
       "<thead><tr><th>src_n</th><th>Porb</th><th>RA_OGLE</th><th>DEC_OGLE</th></tr></thead>\n",
       "<thead><tr><th>int64</th><th>float64</th><th>str11</th><th>str11</th></tr></thead>\n",
       "<tr><td>2</td><td>84.0</td><td>01:21:40.61</td><td>-72:57:30.9</td></tr>\n",
       "<tr><td>3</td><td>18.38</td><td>00:54:33.44</td><td>-73:41:01.3</td></tr>\n",
       "</table>"
      ],
      "text/plain": [
       "<Table length=2>\n",
       "src_n   Porb    RA_OGLE     DEC_OGLE \n",
       "int64 float64    str11       str11   \n",
       "----- ------- ----------- -----------\n",
       "    2    84.0 01:21:40.61 -72:57:30.9\n",
       "    3   18.38 00:54:33.44 -73:41:01.3"
      ]
     },
     "execution_count": 465,
     "metadata": {},
     "output_type": "execute_result"
    }
   ],
   "source": [
    "filetab[:2]"
   ]
  },
  {
   "cell_type": "markdown",
   "metadata": {},
   "source": [
    "## checking what's going on with multiple rows of same src num (see duplicates below)\n",
    "## also something going on with V band names -- V file OIII names not coming up in PartI_OIII"
   ]
  },
  {
   "cell_type": "code",
   "execution_count": 406,
   "metadata": {
    "collapsed": true,
    "jupyter": {
     "outputs_hidden": true
    }
   },
   "outputs": [
    {
     "data": {
      "text/html": [
       "<i>Table length=10</i>\n",
       "<table id=\"table112360353616\" class=\"table-striped table-bordered table-condensed\">\n",
       "<thead><tr><th>src_n</th><th>name1</th><th>name2</th></tr></thead>\n",
       "<thead><tr><th>int64</th><th>str15</th><th>str14</th></tr></thead>\n",
       "<tr><td>24</td><td>smc719.19.162</td><td>smc105.5.31239</td></tr>\n",
       "<tr><td>24</td><td>smc719.19.162</td><td>smc108.8.8659</td></tr>\n",
       "<tr><td>25</td><td>smc726.27.20665</td><td>smc110.3.15926</td></tr>\n",
       "<tr><td>25</td><td>smc726.27.20665</td><td>smc110.4.3589</td></tr>\n",
       "<tr><td>26</td><td>smc719.05.41432</td><td>smc100.5.44537</td></tr>\n",
       "<tr><td>26</td><td>smc719.05.41432</td><td>smc101.8.14265</td></tr>\n",
       "<tr><td>27</td><td>smc719.11.36482</td><td>smc101.2.14349</td></tr>\n",
       "<tr><td>28</td><td>smc719.21.21951</td><td>smc102.1.38</td></tr>\n",
       "<tr><td>30</td><td>smc726.15.77</td><td>smc106.7.18880</td></tr>\n",
       "<tr><td>31</td><td>smc719.20.325</td><td>smc101.3.39681</td></tr>\n",
       "</table>"
      ],
      "text/plain": [
       "<Table length=10>\n",
       "src_n      name1          name2     \n",
       "int64      str15          str14     \n",
       "----- --------------- --------------\n",
       "   24   smc719.19.162 smc105.5.31239\n",
       "   24   smc719.19.162  smc108.8.8659\n",
       "   25 smc726.27.20665 smc110.3.15926\n",
       "   25 smc726.27.20665  smc110.4.3589\n",
       "   26 smc719.05.41432 smc100.5.44537\n",
       "   26 smc719.05.41432 smc101.8.14265\n",
       "   27 smc719.11.36482 smc101.2.14349\n",
       "   28 smc719.21.21951    smc102.1.38\n",
       "   30    smc726.15.77 smc106.7.18880\n",
       "   31   smc719.20.325 smc101.3.39681"
      ]
     },
     "execution_count": 406,
     "metadata": {},
     "output_type": "execute_result"
    }
   ],
   "source": [
    "og3[20:30]"
   ]
  },
  {
   "cell_type": "code",
   "execution_count": 407,
   "metadata": {
    "collapsed": true,
    "jupyter": {
     "outputs_hidden": true
    }
   },
   "outputs": [
    {
     "data": {
      "text/plain": [
       "False"
      ]
     },
     "execution_count": 407,
     "metadata": {},
     "output_type": "execute_result"
    }
   ],
   "source": [
    "'smc100.2.42261.dat' in og3['name1']"
   ]
  },
  {
   "cell_type": "code",
   "execution_count": 408,
   "metadata": {
    "collapsed": true,
    "jupyter": {
     "outputs_hidden": true
    }
   },
   "outputs": [
    {
     "data": {
      "text/plain": [
       "True"
      ]
     },
     "execution_count": 408,
     "metadata": {},
     "output_type": "execute_result"
    }
   ],
   "source": [
    "'smc719.19.162' in og3['name1']"
   ]
  },
  {
   "cell_type": "code",
   "execution_count": 409,
   "metadata": {
    "collapsed": true,
    "jupyter": {
     "outputs_hidden": true
    }
   },
   "outputs": [
    {
     "data": {
      "text/plain": [
       "False"
      ]
     },
     "execution_count": 409,
     "metadata": {},
     "output_type": "execute_result"
    }
   ],
   "source": [
    "'smc111.3.3.dat' in og3['name1'] or 'smc111.3.3.dat' in og3['name2']"
   ]
  },
  {
   "cell_type": "code",
   "execution_count": 411,
   "metadata": {
    "collapsed": true,
    "jupyter": {
     "outputs_hidden": true
    }
   },
   "outputs": [
    {
     "data": {
      "text/plain": [
       "False"
      ]
     },
     "execution_count": 411,
     "metadata": {},
     "output_type": "execute_result"
    }
   ],
   "source": [
    "'smc719.26.44.dat' in og4int['name1']"
   ]
  },
  {
   "cell_type": "code",
   "execution_count": 412,
   "metadata": {
    "collapsed": true,
    "jupyter": {
     "outputs_hidden": true
    }
   },
   "outputs": [
    {
     "data": {
      "text/html": [
       "&lt;Column name=&apos;name1&apos; dtype=&apos;str15&apos; length=3&gt;\n",
       "<table>\n",
       "<tr><td>smc732.03.3540</td></tr>\n",
       "<tr><td>smc720.17.50</td></tr>\n",
       "<tr><td>smc718.01.10792</td></tr>\n",
       "</table>"
      ],
      "text/plain": [
       "<Column name='name1' dtype='str15' length=3>\n",
       " smc732.03.3540\n",
       "   smc720.17.50\n",
       "smc718.01.10792"
      ]
     },
     "execution_count": 412,
     "metadata": {},
     "output_type": "execute_result"
    }
   ],
   "source": [
    "og4['name1'][:3]"
   ]
  },
  {
   "cell_type": "code",
   "execution_count": 414,
   "metadata": {
    "collapsed": true,
    "jupyter": {
     "outputs_hidden": true
    }
   },
   "outputs": [
    {
     "data": {
      "text/plain": [
       "False"
      ]
     },
     "execution_count": 414,
     "metadata": {},
     "output_type": "execute_result"
    }
   ],
   "source": [
    "'smc726.20.27602.dat' in og4['name1']"
   ]
  },
  {
   "cell_type": "markdown",
   "metadata": {},
   "source": [
    "go forward with function but definitely ask about this\n",
    "- V band names don't actually match up with og tables?"
   ]
  },
  {
   "cell_type": "code",
   "execution_count": 492,
   "metadata": {},
   "outputs": [],
   "source": [
    "o2idict = dict.fromkeys(filetab['src_n'], '')"
   ]
  },
  {
   "cell_type": "code",
   "execution_count": 493,
   "metadata": {},
   "outputs": [
    {
     "data": {
      "text/plain": [
       "['smc_list/OGLE-II/I/smc_sc4.156251.dat',\n",
       " 'smc_list/OGLE-II/I/smc_sc8.94537.dat',\n",
       " 'smc_list/OGLE-II/I/smc_sc7.70829.dat',\n",
       " 'smc_list/OGLE-II/I/smc_sc5.145678.dat',\n",
       " 'smc_list/OGLE-II/I/smc_sc8.139407.dat']"
      ]
     },
     "execution_count": 493,
     "metadata": {},
     "output_type": "execute_result"
    }
   ],
   "source": [
    "#just do I band for now\n",
    "#start with OII\n",
    "idir = 'smc_list/OGLE-II/I/'\n",
    "#same as iog2 but make new one and delete from it\n",
    "\n",
    "i2f = glob.glob(idir+'*')#I band o2 files\n",
    "i2f[:5]"
   ]
  },
  {
   "cell_type": "code",
   "execution_count": 494,
   "metadata": {},
   "outputs": [
    {
     "data": {
      "text/plain": [
       "['smc_list/OGLE-II/V/smc_sc4.156251.dat',\n",
       " 'smc_list/OGLE-II/V/smc_sc8.94537.dat']"
      ]
     },
     "execution_count": 494,
     "metadata": {},
     "output_type": "execute_result"
    }
   ],
   "source": [
    "#repeat with V band\n",
    "vdir = 'smc_list/OGLE-II/V/'\n",
    "#same as iog2 but make new one and delete from it\n",
    "\n",
    "v2f = glob.glob(vdir+'*')#V band o2 files\n",
    "v2f[:2]"
   ]
  },
  {
   "cell_type": "code",
   "execution_count": 491,
   "metadata": {},
   "outputs": [],
   "source": [
    "o2vdict = dict.fromkeys(filetab['src_n'], '')"
   ]
  },
  {
   "cell_type": "code",
   "execution_count": 495,
   "metadata": {},
   "outputs": [
    {
     "name": "stdout",
     "output_type": "stream",
     "text": [
      "71 71\n"
     ]
    }
   ],
   "source": [
    "print(len(v2f),len(i2f))"
   ]
  },
  {
   "cell_type": "code",
   "execution_count": 496,
   "metadata": {
    "collapsed": true,
    "jupyter": {
     "outputs_hidden": true
    }
   },
   "outputs": [
    {
     "name": "stdout",
     "output_type": "stream",
     "text": [
      "6 V band found with name 2\n",
      "6 I found with name2\n",
      "7 V band found with name 2\n",
      "7 I found with name2\n",
      "10 V band found with name 2\n",
      "10 I found with name2\n",
      "11 V band found with name 2\n",
      "11 I found with name2\n",
      "12 V band found with name 2\n",
      "12 I found with name2\n",
      "15 V band found with name 2\n",
      "15 I found with name2\n",
      "16 V band found with name 2\n",
      "16 I found with name2\n",
      "21 V band found with name 2\n",
      "21 I found with name2\n",
      "24 V band found with name 2\n",
      "24 I found with name2\n",
      "25 V band found with name 2\n",
      "25 I found with name2\n",
      "26 V band found with name 2\n",
      "26 I found with name2\n",
      "27 V band found with name 2\n",
      "27 I found with name2\n",
      "37 V band found with name 2\n",
      "37 I found with name2\n",
      "38 V band found with name 2\n",
      "38 I found with name2\n",
      "39 V band found with name 2\n",
      "39 I found with name2\n",
      "40 V band found with name 2\n",
      "40 I found with name2\n",
      "41 V band found with name 2\n",
      "41 I found with name2\n",
      "45 V band found with name 2\n",
      "45 I found with name2\n",
      "46 V band found with name 2\n",
      "46 I found with name2\n",
      "47 V band found with name 2\n",
      "47 I found with name2\n",
      "48 V band found with name 2\n",
      "48 I found with name2\n",
      "49 V band found with name 2\n",
      "49 I found with name2\n",
      "52 V band found with name 2\n",
      "52 I found with name2\n",
      "53 V band found with name 2\n",
      "53 I found with name2\n",
      "54 V band found with name 2\n",
      "54 I found with name2\n",
      "55 V band found with name 2\n",
      "55 I found with name2\n",
      "56 V band found with name 2\n",
      "56 I found with name2\n",
      "57 V band found with name 2\n",
      "57 I found with name2\n",
      "58 V band found with name 2\n",
      "58 I found with name2\n",
      "59 V band found with name 2\n",
      "59 I found with name2\n",
      "60 V band found with name 2\n",
      "60 I found with name2\n",
      "64 V band found with name 2\n",
      "64 I found with name2\n",
      "65 V band found with name 2\n",
      "65 I found with name2\n",
      "125 V band found with name 2\n",
      "125 I found with name2\n"
     ]
    }
   ],
   "source": [
    "#loop thru og2 sources, not filetab, since not all filetab in og2\n",
    "for s in og2['src_n']:\n",
    "    #get source names from og2 table\n",
    "    #seems to be V band name\n",
    "    name1 = og2[og2['src_n']==s]['name1'][0]\n",
    "    #I band name\n",
    "    name2 = og2[og2['src_n']==s]['name2'][0]\n",
    "    #find file in i2f with src name in it\n",
    "    if vdir+name1+'.dat' in v2f:\n",
    "        #add to dictionary\n",
    "        o2vdict[s] = vdir+name1+'.dat'\n",
    "        print(s,'V found with name1')\n",
    "        #delete string from v2f\n",
    "        v2f.remove(vdir+name1+'.dat')\n",
    "    elif vdir+name2+'.dat' in v2f:\n",
    "        #add to dictionary\n",
    "        o2vdict[s] = vdir+name2+'.dat'\n",
    "        print(s,'V band found with name 2')\n",
    "        v2f.remove(vdir+name2+'.dat')\n",
    "    else: print(s,'source not found in V folder')\n",
    "    if idir+name2+'.dat' in i2f:\n",
    "        print(s,'I found with name2')\n",
    "        o2idict[s] = idir+name2+'.dat'\n",
    "        i2f.remove(idir+name2+'.dat')\n",
    "\n",
    "    elif idir+name1+'.dat' in i2f:\n",
    "        print(s,'I found with name1')\n",
    "        o2idict[s] = idir+name1+'.dat'\n",
    "        i2f.remove(idir+name1+'.dat')\n",
    "    else: print(s,'source not found in I folder')"
   ]
  },
  {
   "cell_type": "code",
   "execution_count": 516,
   "metadata": {},
   "outputs": [
    {
     "data": {
      "text/plain": [
       "37"
      ]
     },
     "execution_count": 516,
     "metadata": {},
     "output_type": "execute_result"
    }
   ],
   "source": [
    "#all but one source found\n",
    "len(i2f) #succesfully deleted "
   ]
  },
  {
   "cell_type": "code",
   "execution_count": 517,
   "metadata": {},
   "outputs": [
    {
     "data": {
      "text/plain": [
       "34"
      ]
     },
     "execution_count": 517,
     "metadata": {},
     "output_type": "execute_result"
    }
   ],
   "source": [
    "71-37"
   ]
  },
  {
   "cell_type": "code",
   "execution_count": 511,
   "metadata": {},
   "outputs": [],
   "source": [
    "filetab['OII I'] = list(o2idict.values())\n",
    "filetab['OII V'] = list(o2vdict.values())"
   ]
  },
  {
   "cell_type": "code",
   "execution_count": 512,
   "metadata": {},
   "outputs": [
    {
     "data": {
      "text/html": [
       "<i>Table length=5</i>\n",
       "<table id=\"table112397775760\" class=\"table-striped table-bordered table-condensed\">\n",
       "<thead><tr><th>src_n</th><th>Porb</th><th>RA_OGLE</th><th>DEC_OGLE</th><th>OII I</th><th>OII V</th></tr></thead>\n",
       "<thead><tr><th>int64</th><th>float64</th><th>str11</th><th>str11</th><th>str38</th><th>str38</th></tr></thead>\n",
       "<tr><td>2</td><td>84.0</td><td>01:21:40.61</td><td>-72:57:30.9</td><td></td><td></td></tr>\n",
       "<tr><td>3</td><td>18.38</td><td>00:54:33.44</td><td>-73:41:01.3</td><td></td><td></td></tr>\n",
       "<tr><td>4</td><td>82.37</td><td>00:59:12.74</td><td>-71:38:44.9</td><td></td><td></td></tr>\n",
       "<tr><td>5</td><td>--</td><td>00:51:38.79</td><td>-72:17:04.8</td><td></td><td></td></tr>\n",
       "<tr><td>6</td><td>17.2</td><td>00:57:02.19</td><td>-72:25:55.4</td><td>smc_list/OGLE-II/I/smc_sc7.266703.dat</td><td>smc_list/OGLE-II/V/smc_sc7.266703.dat</td></tr>\n",
       "</table>"
      ],
      "text/plain": [
       "<Table length=5>\n",
       "src_n   Porb  ...                 OII V                \n",
       "int64 float64 ...                 str38                \n",
       "----- ------- ... -------------------------------------\n",
       "    2    84.0 ...                                      \n",
       "    3   18.38 ...                                      \n",
       "    4   82.37 ...                                      \n",
       "    5      -- ...                                      \n",
       "    6    17.2 ... smc_list/OGLE-II/V/smc_sc7.266703.dat"
      ]
     },
     "execution_count": 512,
     "metadata": {},
     "output_type": "execute_result"
    }
   ],
   "source": [
    "filetab[:5]"
   ]
  },
  {
   "cell_type": "code",
   "execution_count": 514,
   "metadata": {},
   "outputs": [
    {
     "data": {
      "text/plain": [
       "37"
      ]
     },
     "execution_count": 514,
     "metadata": {},
     "output_type": "execute_result"
    }
   ],
   "source": [
    "len(i2f)"
   ]
  },
  {
   "cell_type": "code",
   "execution_count": 646,
   "metadata": {},
   "outputs": [],
   "source": [
    "#repeat for og3 and og4\n",
    "#define dictionaries\n",
    "o3idict = dict.fromkeys(filetab['src_n'], '')\n",
    "o3vdict = dict.fromkeys(filetab['src_n'], '')\n",
    "o4idict = dict.fromkeys(filetab['src_n'], '')\n",
    "o4vdict = dict.fromkeys(filetab['src_n'], '')\n",
    "\n",
    "#get directories and files\n",
    "i3dir = 'smc_list/OGLE-III/I/'\n",
    "v3dir = 'smc_list/OGLE-III/V/'\n",
    "i3f = glob.glob(i3dir+'*')\n",
    "v3f = glob.glob(v3dir+'*')\n",
    "#directories and files for og4: use calibrated\n",
    "i4dir = 'smc_list/OGLE-IV/I/CALIBRATED/'\n",
    "v4dir = 'smc_list/OGLE-IV/V/CALIBRATED/'\n",
    "i4f = glob.glob(i4dir+'*')\n",
    "v4f = glob.glob(v4dir+'*')"
   ]
  },
  {
   "cell_type": "code",
   "execution_count": 608,
   "metadata": {},
   "outputs": [],
   "source": [
    "cross3 = Table.read('smc_list/IV_OIII.cross',format='ascii',names=['Iname','Vname'])\n",
    "cross4 = Table.read('smc_list/IV_OIV.cross',format='ascii',names=['Iname','Vname'])"
   ]
  },
  {
   "cell_type": "code",
   "execution_count": 620,
   "metadata": {},
   "outputs": [
    {
     "data": {
      "text/plain": [
       "'smc105.5.24164'"
      ]
     },
     "execution_count": 620,
     "metadata": {},
     "output_type": "execute_result"
    }
   ],
   "source": [
    "og3[og3['src_n']==51]['name2'][0]"
   ]
  },
  {
   "cell_type": "code",
   "execution_count": 647,
   "metadata": {
    "collapsed": true,
    "jupyter": {
     "outputs_hidden": true
    }
   },
   "outputs": [
    {
     "name": "stdout",
     "output_type": "stream",
     "text": [
      "2 V found with cross name\n",
      "2 I found with name2\n",
      "3 V found with cross name\n",
      "3 I found with name2\n",
      "4 V found with cross name\n",
      "4 I found with name2\n",
      "5 V found with cross name\n",
      "5 I found with name2\n",
      "6 V found with cross name\n",
      "6 I found with name2\n",
      "7 V found with cross name\n",
      "7 I found with name2\n",
      "9 V found with cross name\n",
      "9 I found with name2\n",
      "10 V found with cross name\n",
      "10 I found with name2\n",
      "11 V found with cross name\n",
      "11 I found with name2\n",
      "12 V found with cross name\n",
      "12 I found with name2\n",
      "13 V found with cross name\n",
      "13 I found with name2\n",
      "15 V found with cross name\n",
      "15 I found with name2\n",
      "16 V found with cross name\n",
      "16 I found with name2\n",
      "17 V found with cross name\n",
      "17 I found with name2\n",
      "20 V found with cross name\n",
      "20 I found with name2\n",
      "21 V found with cross name\n",
      "21 I found with name2\n",
      "22 V found with cross name\n",
      "22 I found with name2\n",
      "23 V found with cross name\n",
      "23 I found with name2\n",
      "23 source not found in V folder\n",
      "23 source not found in I folder\n",
      "23 source not found in V folder\n",
      "23 source not found in I folder\n",
      "24 V found with cross name\n",
      "24 I found with name2\n",
      "24 source not found in V folder\n",
      "24 source not found in I folder\n",
      "25 V found with cross name\n",
      "25 I found with name2\n",
      "25 source not found in V folder\n",
      "25 source not found in I folder\n",
      "26 V found with cross name\n",
      "26 I found with name2\n",
      "26 source not found in V folder\n",
      "26 source not found in I folder\n",
      "27 V found with cross name\n",
      "27 I found with name2\n",
      "28 V found with cross name\n",
      "28 I found with name2\n",
      "30 V found with cross name\n",
      "30 I found with name2\n",
      "31 V found with cross name\n",
      "31 I found with name2\n",
      "32 V found with cross name\n",
      "32 I found with name2\n",
      "34 V found with cross name\n",
      "34 I found with name2\n",
      "35 V found with cross name\n",
      "35 I found with name2\n",
      "36 V found with cross name\n",
      "36 I found with name2\n",
      "37 V found with cross name\n",
      "37 I found with name2\n",
      "38 V found with cross name\n",
      "38 I found with name2\n",
      "39 V found with cross name\n",
      "39 I found with name2\n",
      "40 V found with cross name\n",
      "40 I found with name2\n",
      "41 V found with cross name\n",
      "41 I found with name2\n",
      "44 V found with cross name\n",
      "44 I found with name2\n",
      "45 V found with cross name\n",
      "45 I found with name2\n",
      "46 V found with cross name\n",
      "46 I found with name2\n",
      "47 V found with cross name\n",
      "47 I found with name2\n",
      "48 V found with cross name\n",
      "48 I found with name2\n",
      "49 V found with cross name\n",
      "49 I found with name2\n",
      "50 V found with cross name\n",
      "50 I found with name2\n",
      "51 V found with cross name\n",
      "51 I found with name2\n",
      "51 source not found in V folder\n",
      "51 source not found in I folder\n",
      "52 V found with cross name\n",
      "52 I found with name2\n",
      "53 V found with cross name\n",
      "53 I found with name2\n",
      "53 source not found in V folder\n",
      "53 source not found in I folder\n",
      "54 V found with cross name\n",
      "54 I found with name2\n",
      "55 V found with cross name\n",
      "55 I found with name2\n",
      "56 V found with cross name\n",
      "56 I found with name2\n",
      "57 V found with cross name\n",
      "57 I found with name2\n",
      "58 V found with cross name\n",
      "58 I found with name2\n",
      "59 V found with cross name\n",
      "59 I found with name2\n",
      "60 V found with cross name\n",
      "60 I found with name2\n",
      "62 V found with cross name\n",
      "62 I found with name2\n",
      "64 V found with cross name\n",
      "64 I found with name2\n",
      "65 V found with cross name\n",
      "65 I found with name2\n",
      "125 V found with cross name\n",
      "125 I found with name2\n",
      "142 V found with cross name\n",
      "142 I found with name2\n"
     ]
    }
   ],
   "source": [
    "for s in og3['src_n']:\n",
    "    #get source names from og2 table\n",
    "    #I band name\n",
    "    name2 = og3[og3['src_n']==s]['name2'][0]\n",
    "    #corresponding V band name from cross\n",
    "    crname = cross3[cross3['Iname']==name2]['Vname'][0]\n",
    "#     name1 = og3[og3['src_n']==s]['name1'][0]\n",
    "    if v3dir+crname+'.dat' in v3f:\n",
    "        #add to dictionary\n",
    "        o3vdict[s] = v3dir+crname+'.dat'\n",
    "        print(s,'V found with cross name')\n",
    "        #delete string from v2f\n",
    "        v3f.remove(v3dir+crname+'.dat')\n",
    "\n",
    "    else: print(s,'source not found in V folder')\n",
    "    if i3dir+name2+'.dat' in i3f:\n",
    "        print(s,'I found with name2')\n",
    "        o3idict[s] = i3dir+name2+'.dat'\n",
    "        i3f.remove(i3dir+name2+'.dat')\n",
    "#     elif i3dir+name1+'.dat' in i3f:\n",
    "#         print(s,'I found with name1')\n",
    "#         o3idict[s] = i3dir+name1+'.dat'\n",
    "#         i3f.remove(i3dir+name1+'.dat')\n",
    "    else: print(s,'source not found in I folder')"
   ]
  },
  {
   "cell_type": "markdown",
   "metadata": {},
   "source": [
    "o3idict only missing two files\n",
    "- above print statements show more b/c of duplicated source numbers"
   ]
  },
  {
   "cell_type": "code",
   "execution_count": 638,
   "metadata": {},
   "outputs": [],
   "source": [
    "filetab['OIII I'] = list(o3idict.values())\n",
    "filetab['OIII V'] = list(o3vdict.values())"
   ]
  },
  {
   "cell_type": "code",
   "execution_count": 643,
   "metadata": {},
   "outputs": [
    {
     "data": {
      "text/plain": [
       "'smc732.03.3540'"
      ]
     },
     "execution_count": 643,
     "metadata": {},
     "output_type": "execute_result"
    }
   ],
   "source": [
    "og3[og3['src_n']==2]['name1'][0]"
   ]
  },
  {
   "cell_type": "code",
   "execution_count": 645,
   "metadata": {},
   "outputs": [
    {
     "data": {
      "text/plain": [
       "51"
      ]
     },
     "execution_count": 645,
     "metadata": {},
     "output_type": "execute_result"
    }
   ],
   "source": [
    "len(i4f)"
   ]
  },
  {
   "cell_type": "code",
   "execution_count": 648,
   "metadata": {
    "collapsed": true,
    "jupyter": {
     "outputs_hidden": true
    }
   },
   "outputs": [
    {
     "name": "stdout",
     "output_type": "stream",
     "text": [
      "2 source not found in V folder\n",
      "2 I found with name1\n",
      "3 V found with name1\n",
      "3 I found with name1\n",
      "4 V found with name1\n",
      "4 I found with name1\n",
      "5 V found with name1\n",
      "5 I found with name1\n",
      "6 V found with name1\n",
      "6 I found with name1\n",
      "7 V found with name1\n",
      "7 I found with name1\n",
      "9 V found with name1\n",
      "9 I found with name1\n",
      "10 V found with name1\n",
      "10 I found with name1\n",
      "11 V found with name1\n",
      "11 I found with name1\n",
      "12 V found with name1\n",
      "12 I found with name1\n",
      "13 V found with name1\n",
      "13 I found with name1\n",
      "14 V found with name1\n",
      "14 I found with name1\n",
      "15 V found with name1\n",
      "15 I found with name1\n",
      "16 V found with name1\n",
      "16 I found with name1\n",
      "17 V found with name1\n",
      "17 I found with name1\n",
      "20 source not found in V folder\n",
      "20 I found with name1\n",
      "21 V found with name1\n",
      "21 I found with name1\n",
      "22 V found with name1\n",
      "22 I found with name1\n",
      "23 V found with name1\n",
      "23 I found with name1\n",
      "24 V found with name1\n",
      "24 I found with name1\n",
      "25 V found with name1\n",
      "25 I found with name1\n",
      "26 V found with name1\n",
      "26 I found with name1\n",
      "27 V found with name1\n",
      "27 I found with name1\n",
      "28 V found with name1\n",
      "28 I found with name1\n",
      "30 V found with name1\n",
      "30 I found with name1\n",
      "31 V found with name1\n",
      "31 I found with name1\n",
      "32 V found with name1\n",
      "32 I found with name1\n",
      "34 V found with name1\n",
      "34 I found with name1\n",
      "35 V found with name1\n",
      "35 I found with name1\n",
      "36 V found with name1\n",
      "36 I found with name1\n",
      "37 V found with name1\n",
      "37 I found with name1\n",
      "38 V found with name1\n",
      "38 I found with name1\n",
      "39 V found with name1\n",
      "39 I found with name1\n",
      "40 V found with name1\n",
      "40 I found with name1\n",
      "41 V found with name1\n",
      "41 I found with name1\n",
      "44 V found with name1\n",
      "44 I found with name1\n",
      "45 source not found in V folder\n",
      "45 I found with name1\n",
      "46 V found with name1\n",
      "46 I found with name1\n",
      "47 V found with name1\n",
      "47 I found with name1\n",
      "48 V found with name1\n",
      "48 I found with name1\n",
      "49 V found with name1\n",
      "49 I found with name1\n",
      "50 V found with name1\n",
      "50 I found with name1\n",
      "51 V found with name1\n",
      "51 I found with name1\n",
      "52 V found with name1\n",
      "52 I found with name1\n",
      "53 V found with name1\n",
      "53 I found with name1\n",
      "54 V found with name1\n",
      "54 I found with name1\n",
      "55 V found with name1\n",
      "55 I found with name1\n",
      "56 V found with name1\n",
      "56 I found with name1\n",
      "57 V found with name1\n",
      "57 I found with name1\n",
      "58 V found with name1\n",
      "58 I found with name1\n",
      "59 V found with name1\n",
      "59 I found with name1\n",
      "60 V found with name1\n",
      "60 I found with name1\n",
      "62 V found with name1\n",
      "62 I found with name1\n",
      "63 V found with name1\n",
      "63 I found with name1\n",
      "64 V found with name1\n",
      "64 I found with name1\n",
      "65 V found with name1\n",
      "65 I found with name1\n",
      "125 V found with name1\n",
      "125 I found with name1\n",
      "142 V found with name1\n",
      "142 I found with name1\n"
     ]
    }
   ],
   "source": [
    "#lastly: og4 (srcs with integer values for now)\n",
    "#og4 names in table not finding\n",
    "for s in og4int['src_n']:\n",
    "    #get source names from og2 table\n",
    "    #only one name\n",
    "    name1 = og4int[og4int['src_n']==s]['name1'][0]\n",
    "    #not a cross name for everything\n",
    "    if name1 in cross4['Iname']:\n",
    "        crname = cross4[cross4['Iname']==name1]['Vname'][0]\n",
    "    else: crname = name1\n",
    "    #find file in i2f with src name in it\n",
    "    if v4dir+crname+'.dat' in v4f:\n",
    "        #add to dictionary\n",
    "        o4vdict[s] = v4dir+crname+'.dat'\n",
    "        print(s,'V found with name1')\n",
    "        #delete string from v2f\n",
    "        v4f.remove(v4dir+crname+'.dat')\n",
    "    else: print(s,'source not found in V folder')\n",
    "    if i4dir+name1+'.dat' in i4f:\n",
    "        print(s,'I found with name1')\n",
    "        o4idict[s] = i4dir+name1+'.dat'\n",
    "        i4f.remove(i4dir+name1+'.dat')\n",
    "    else: print(s,'source not found in I folder')"
   ]
  },
  {
   "cell_type": "code",
   "execution_count": 649,
   "metadata": {},
   "outputs": [],
   "source": [
    "filetab['OIV I'] = list(o4idict.values())\n",
    "filetab['OIV V'] = list(o4vdict.values())"
   ]
  },
  {
   "cell_type": "code",
   "execution_count": 650,
   "metadata": {},
   "outputs": [
    {
     "data": {
      "text/html": [
       "<i>Table length=5</i>\n",
       "<table id=\"table112373327952\" class=\"table-striped table-bordered table-condensed\">\n",
       "<thead><tr><th>src_n</th><th>Porb</th><th>RA_OGLE</th><th>DEC_OGLE</th><th>OII I</th><th>OII V</th><th>OIII I</th><th>OIII V</th><th>OIV I</th><th>OIV V</th></tr></thead>\n",
       "<thead><tr><th>int64</th><th>float64</th><th>str11</th><th>str11</th><th>str38</th><th>str38</th><th>str38</th><th>str38</th><th>str49</th><th>str49</th></tr></thead>\n",
       "<tr><td>2</td><td>84.0</td><td>01:21:40.61</td><td>-72:57:30.9</td><td></td><td></td><td>smc_list/OGLE-III/I/smc120.1.5.dat</td><td>smc_list/OGLE-III/V/smc120.1.5.dat</td><td>smc_list/OGLE-IV/I/CALIBRATED/smc732.03.3540.dat</td><td></td></tr>\n",
       "<tr><td>3</td><td>18.38</td><td>00:54:33.44</td><td>-73:41:01.3</td><td></td><td></td><td>smc_list/OGLE-III/I/smc107.5.22.dat</td><td>smc_list/OGLE-III/V/smc107.5.5.dat</td><td>smc_list/OGLE-IV/I/CALIBRATED/smc720.17.50.dat</td><td>smc_list/OGLE-IV/V/CALIBRATED/smc720.17.19.dat</td></tr>\n",
       "<tr><td>4</td><td>82.37</td><td>00:59:12.74</td><td>-71:38:44.9</td><td></td><td></td><td>smc_list/OGLE-III/I/smc109.2.21.dat</td><td>smc_list/OGLE-III/V/smc109.2.5.dat</td><td>smc_list/OGLE-IV/I/CALIBRATED/smc718.01.10792.dat</td><td>smc_list/OGLE-IV/V/CALIBRATED/smc718.01.21607.dat</td></tr>\n",
       "<tr><td>5</td><td>--</td><td>00:51:38.79</td><td>-72:17:04.8</td><td></td><td></td><td>smc_list/OGLE-III/I/smc101.4.21932.dat</td><td>smc_list/OGLE-III/V/smc101.4.39141.dat</td><td>smc_list/OGLE-IV/I/CALIBRATED/smc719.21.22049.dat</td><td>smc_list/OGLE-IV/V/CALIBRATED/smc719.21.39743.dat</td></tr>\n",
       "<tr><td>6</td><td>17.2</td><td>00:57:02.19</td><td>-72:25:55.4</td><td>smc_list/OGLE-II/I/smc_sc7.266703.dat</td><td>smc_list/OGLE-II/V/smc_sc7.266703.dat</td><td>smc_list/OGLE-III/I/smc108.8.26225.dat</td><td>smc_list/OGLE-III/V/smc108.8.30808.dat</td><td>smc_list/OGLE-IV/I/CALIBRATED/smc719.18.378.dat</td><td>smc_list/OGLE-IV/V/CALIBRATED/smc719.18.340.dat</td></tr>\n",
       "</table>"
      ],
      "text/plain": [
       "<Table length=5>\n",
       "src_n   Porb  ...                       OIV V                      \n",
       "int64 float64 ...                       str49                      \n",
       "----- ------- ... -------------------------------------------------\n",
       "    2    84.0 ...                                                  \n",
       "    3   18.38 ...    smc_list/OGLE-IV/V/CALIBRATED/smc720.17.19.dat\n",
       "    4   82.37 ... smc_list/OGLE-IV/V/CALIBRATED/smc718.01.21607.dat\n",
       "    5      -- ... smc_list/OGLE-IV/V/CALIBRATED/smc719.21.39743.dat\n",
       "    6    17.2 ...   smc_list/OGLE-IV/V/CALIBRATED/smc719.18.340.dat"
      ]
     },
     "execution_count": 650,
     "metadata": {},
     "output_type": "execute_result"
    }
   ],
   "source": [
    "filetab[:5]"
   ]
  },
  {
   "cell_type": "code",
   "execution_count": 651,
   "metadata": {},
   "outputs": [],
   "source": [
    "ascii.write(filetab,'sourcefiles.csv',format='csv')"
   ]
  }
 ],
 "metadata": {
  "kernelspec": {
   "display_name": "Python 3",
   "language": "python",
   "name": "python3"
  },
  "language_info": {
   "codemirror_mode": {
    "name": "ipython",
    "version": 3
   },
   "file_extension": ".py",
   "mimetype": "text/x-python",
   "name": "python",
   "nbconvert_exporter": "python",
   "pygments_lexer": "ipython3",
   "version": "3.7.6"
  }
 },
 "nbformat": 4,
 "nbformat_minor": 4
}
