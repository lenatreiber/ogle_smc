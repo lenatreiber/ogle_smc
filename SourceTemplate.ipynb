{
 "cells": [
  {
   "cell_type": "markdown",
   "metadata": {},
   "source": [
    "# Summary\n",
    "\n",
    "- add summary template and additions to table\n",
    "- add other adjustments as needed"
   ]
  },
  {
   "cell_type": "markdown",
   "metadata": {},
   "source": [
    "# Outline\n",
    "- 1: Sequence of Three Auto Functions that Inform Further Search\n",
    "- 2: Look for Orbital Period with Periodograms\n",
    "- 3: Look for Orbital Period with LC\n",
    "- 4: Look for Super-Orbital Period with Periodograms\n",
    "- 5: Look for Super-Orbital Period with LC"
   ]
  },
  {
   "cell_type": "code",
   "execution_count": null,
   "metadata": {},
   "outputs": [],
   "source": [
    "from uncertainties import ufloat\n",
    "from uncertainties.umath import *\n",
    "import math\n",
    "import numpy as np\n",
    "import matplotlib.pyplot as plt\n",
    "import pandas as pd\n",
    "from astropy.stats import LombScargle\n",
    "from scipy import signal\n",
    "%matplotlib inline\n",
    "import warnings\n",
    "warnings.filterwarnings(\"ignore\")\n",
    "import scipy.optimize\n",
    "# from lmfit.models import GaussianModel\n",
    "import glob\n",
    "from astropy.table import Table,join,vstack,unique\n",
    "from importlib import reload\n",
    "from mpl_toolkits.axes_grid1.inset_locator import inset_axes\n",
    "\n",
    "import ogle as o #module\n",
    "\n",
    "blue = 'cornflowerblue'\n",
    "navy = 'navy'\n",
    "purple = 'rebeccapurple'\n",
    "pink = '#CF6275'\n",
    "maroon = 'maroon'"
   ]
  },
  {
   "cell_type": "code",
   "execution_count": null,
   "metadata": {},
   "outputs": [],
   "source": [
    "#change src number here\n",
    "num = 4\n",
    "cross = Table.read('sourcefiles.csv')\n",
    "full = Table.read('smc_x_m03_zar_match_OGLE_v2.ascii',format='ascii')\n",
    "orb = float(cross[cross['src_n']==num]['Porb'])\n",
    "orb"
   ]
  },
  {
   "cell_type": "code",
   "execution_count": null,
   "metadata": {},
   "outputs": [],
   "source": [
    "full[full['src_n']==num]"
   ]
  },
  {
   "cell_type": "markdown",
   "metadata": {},
   "source": [
    "- spin period: "
   ]
  },
  {
   "cell_type": "markdown",
   "metadata": {},
   "source": [
    "# 1: Sequence of Three Auto Functions that Inform Further Search"
   ]
  },
  {
   "cell_type": "code",
   "execution_count": null,
   "metadata": {},
   "outputs": [],
   "source": [
    "ilist,vlist = o.getIV(num,cross,plot=True,zooms=True,figsize=(8,12),mult=(3,8),offset=10,stack=False) #sometimes good to adjust offset\n",
    "iband,vband = vstack(ilist),vstack(vlist)"
   ]
  },
  {
   "cell_type": "code",
   "execution_count": null,
   "metadata": {},
   "outputs": [],
   "source": [
    "idays = iband['MJD-50000']\n",
    "imag = iband['I mag']\n",
    "ierr = iband['I mag err']"
   ]
  },
  {
   "cell_type": "code",
   "execution_count": null,
   "metadata": {},
   "outputs": [],
   "source": [
    "o.autopd(iband,orb,plotpd=True,plotphase=True,printall=False,ctime=True,orb_bounds=(10,20),cutlc=True,numcuts=10,plotdet=True,pbins=5,saveall=False,srcnum=num)"
   ]
  },
  {
   "cell_type": "markdown",
   "metadata": {},
   "source": [
    "**confirmation of orbital pd already the 408 is probably the orbital period repeated/aliased**"
   ]
  },
  {
   "cell_type": "code",
   "execution_count": null,
   "metadata": {},
   "outputs": [],
   "source": [
    "reload(o)\n",
    "interp = o.colormag(iband,vband,ctime=True,retint=True) "
   ]
  },
  {
   "cell_type": "code",
   "execution_count": null,
   "metadata": {},
   "outputs": [],
   "source": [
    "#V-I vs time over I mag lc\n",
    "fig,ax = plt.subplots(2,1,figsize=(8,8),sharex=True)\n",
    "ax[0].scatter(vband['MJD-50000'],vband['V mag']-interp,color='black')\n",
    "# plt.colorbar(label=('I mag'))\n",
    "ax[1].scatter(idays,imag,color=pink,s=6)\n",
    "plt.subplots_adjust(hspace=0.05)\n",
    "maxi,mini = np.max(iband),np.min(imag)\n",
    "ax[1].set_ylim(maxi+.03,mini-.03)"
   ]
  },
  {
   "cell_type": "markdown",
   "metadata": {},
   "source": [
    "# 2: Look for Orbital Period with Periodograms"
   ]
  },
  {
   "cell_type": "markdown",
   "metadata": {},
   "source": [
    "by OGLE epoch then dense regions (but can be broken up by >20 days)"
   ]
  },
  {
   "cell_type": "code",
   "execution_count": null,
   "metadata": {},
   "outputs": [],
   "source": [
    "len(ilist)"
   ]
  },
  {
   "cell_type": "code",
   "execution_count": null,
   "metadata": {},
   "outputs": [],
   "source": [
    "#without detrending\n",
    "#always get high peak at exactly one day b/c of observing\n",
    "for i in ilist:\n",
    "    df,pks = o.multiphase(i,orb=orb,dense=False,minp=5,maxp=120,plotpd=True)"
   ]
  },
  {
   "cell_type": "markdown",
   "metadata": {},
   "source": [
    "both epochs close to known orbital period, and orbital period looks good in phase-folds\n",
    "- next: searching closer to orbital period and detrending\n"
   ]
  },
  {
   "cell_type": "code",
   "execution_count": null,
   "metadata": {},
   "outputs": [],
   "source": [
    "#detrending each OGLE epoch\n",
    "#varies just a bit based on window\n",
    "for i in ilist:\n",
    "    o.knownorb(i,orb,lower=10,upper=10,window=51,cutdata=False,cut1=0,cut2=500,plotdet=True,figsize=(10,5))\n"
   ]
  },
  {
   "cell_type": "code",
   "execution_count": null,
   "metadata": {},
   "outputs": [],
   "source": [
    "orb"
   ]
  },
  {
   "cell_type": "markdown",
   "metadata": {},
   "source": [
    "**separate into regions**"
   ]
  },
  {
   "cell_type": "code",
   "execution_count": null,
   "metadata": {},
   "outputs": [],
   "source": [
    "#search and fold with densest region (max space up to 50 points)\n",
    "df,pks = o.multiphase(iband,orb=orb,dense=True,maxspace=50,minp=5,maxp=100,plotpd=True)"
   ]
  },
  {
   "cell_type": "code",
   "execution_count": null,
   "metadata": {},
   "outputs": [],
   "source": [
    "dense,mdense = o.finddense(iband,maxspace=50,retall=True)"
   ]
  },
  {
   "cell_type": "code",
   "execution_count": null,
   "metadata": {},
   "outputs": [],
   "source": [
    "bps,maxpows,stdate,endate = o.denselcpd(iband,dense,maxp=100,plotbest=True,onlybp=True)"
   ]
  },
  {
   "cell_type": "code",
   "execution_count": null,
   "metadata": {},
   "outputs": [],
   "source": [
    "bps"
   ]
  },
  {
   "cell_type": "code",
   "execution_count": null,
   "metadata": {},
   "outputs": [],
   "source": [
    "#make tab for each year in LC\n",
    "years = []\n",
    "stdate = iband['MJD-50000'][0]\n",
    "endate = iband['MJD-50000'][-1]\n",
    "y = 1\n",
    "while y < int((endate-stdate)/365)+1:\n",
    "    #less than next year\n",
    "    year = iband[iband['MJD-50000']<stdate+365*y]\n",
    "    #also more than previous\n",
    "    year = year[year['MJD-50000']>stdate+365*(y-1)]\n",
    "\n",
    "    years.append(year)\n",
    "    y+=1"
   ]
  },
  {
   "cell_type": "code",
   "execution_count": null,
   "metadata": {},
   "outputs": [],
   "source": [
    "years[-1]['MJD-50000'][-1]"
   ]
  },
  {
   "cell_type": "code",
   "execution_count": null,
   "metadata": {},
   "outputs": [],
   "source": [
    "len(years)"
   ]
  },
  {
   "cell_type": "code",
   "execution_count": null,
   "metadata": {},
   "outputs": [],
   "source": [
    "#with multiphase big cell but nice to see what fold of known orb looks like even when it's not a peak\n",
    "reload(o)\n",
    "#adjust figsize as needed\n",
    "fig = plt.figure(figsize=(22,10))\n",
    "bps = []\n",
    "p = 1\n",
    "for y in years:\n",
    "    freq,power,bp = o.periodogram(y,maxp=100,more=True,plot=False)\n",
    "    bps.append(bp)\n",
    "    ax = fig.add_subplot(3,6,p)\n",
    "    ax.plot(1/freq,power,color='black')\n",
    "    ax.axvline(orb,color='darkseagreen',alpha=0.5)\n",
    "    p+=1"
   ]
  },
  {
   "cell_type": "code",
   "execution_count": null,
   "metadata": {},
   "outputs": [],
   "source": [
    "#repeat with detrending -- can adjust window size and then more years will have enough points\n",
    "reload(o)\n",
    "fig = plt.figure(figsize=(22,10))\n",
    "bps = []\n",
    "p = 1\n",
    "for y in years:\n",
    "    if len(y)>99:\n",
    "        o.detrend(y,window=99)\n",
    "        freq,power,bp = o.periodogram(y,maxp=100,more=True,plot=False,det=True)\n",
    "        bps.append(float(bp))\n",
    "        ax = fig.add_subplot(3,6,p)\n",
    "        ax.plot(1/freq,power,color='black')\n",
    "        ax.axvline(orb,color='darkseagreen',alpha=0.5)\n",
    "        p+=1"
   ]
  },
  {
   "cell_type": "code",
   "execution_count": null,
   "metadata": {},
   "outputs": [],
   "source": [
    "bps"
   ]
  },
  {
   "cell_type": "markdown",
   "metadata": {},
   "source": [
    "# 3: Look for Orbital Period with LC\n"
   ]
  },
  {
   "cell_type": "code",
   "execution_count": null,
   "metadata": {},
   "outputs": [],
   "source": [
    "orb"
   ]
  },
  {
   "cell_type": "code",
   "execution_count": null,
   "metadata": {},
   "outputs": [],
   "source": [
    "#identify reliable flare center to use for cen\n",
    "\n",
    "def checkorb(st,end,cen=5797.4,orb=orb,plcen=False,figsize=(10,4)):\n",
    "    stday = idays[st:st+1]\n",
    "    enday = idays[end-1:end]\n",
    "    fig = plt.figure(figsize=figsize)\n",
    "    plt.errorbar(idays[st:end],imag[st:end],yerr=ierr[st:end],linestyle='none',marker='o',color=pink,markersize=5)\n",
    "    maxi,mini = np.max(imag[st:end]),np.min(imag[st:end])\n",
    "    plt.ylim(maxi+.02,mini-.02)\n",
    "\n",
    "    fline = int((stday - cen)/orb)\n",
    "    lline = int((enday - cen)/orb)\n",
    "    for i in range(fline-1,lline+2):\n",
    "        plt.axvline(cen+orb*i,alpha=0.2)\n",
    "    if plcen: plt.axvline(cen,alpha=0.6)\n",
    "checkorb(870,1000,plcen=True)"
   ]
  },
  {
   "cell_type": "code",
   "execution_count": null,
   "metadata": {},
   "outputs": [],
   "source": []
  },
  {
   "cell_type": "code",
   "execution_count": null,
   "metadata": {},
   "outputs": [],
   "source": [
    "def orbsub(inds,cen=5797.4,cenerr=0.4,pd=81.9,pderr=0.5,span=True,plcen=False,figsize=(22,30)):\n",
    "    '''Separate full LC into subplots to better see orbital period timescale\n",
    "    st,end are lists or arrays of start and end indices of each subplot\n",
    "    cen: center of flare from which vertical lines are spaced (identify manually)\n",
    "    add table/columns as arguments if moving to ogle.py'''\n",
    "    sts = inds[:-1]\n",
    "    ends = inds[1:]\n",
    "    \n",
    "    fig = plt.figure(figsize=figsize)\n",
    "    rows = int(len(sts)/2)\n",
    "    if len(sts)%2 == 1: rows+=1\n",
    "    \n",
    "    for i in range(len(sts)):\n",
    "        st,end = sts[i],ends[i]\n",
    "        #start at 1 for adding subplot\n",
    "        ax = fig.add_subplot(rows,2,i+1)    \n",
    "        tot = idays[end-1:end] - idays[st:st+1]\n",
    "        stday = idays[st:st+1]\n",
    "        enday = idays[end-1:end] \n",
    "    \n",
    "        ax.errorbar(idays[st:end],imag[st:end],yerr=ierr[st:end],linestyle='none',marker='o',color=pink,markersize=5)\n",
    "        maxi,mini = np.max(imag[st:end]),np.min(imag[st:end])\n",
    "        ax.set_ylim(maxi+.02,mini-.02)\n",
    "        if plcen: ax.axvline(cen)\n",
    "        fline = int((stday - cen)/pd)\n",
    "        lline = int((enday - cen)/pd)\n",
    "        for i in range(fline-1,lline+1):\n",
    "            #propogate error of ~3 days and 1 day on period\n",
    "            if span and i<4: ax.axvspan(cen-cenerr+(pd-pderr)*i,cen+cenerr+(pd+pderr)*i,color='darkseagreen',alpha=0.4)\n",
    "            ax.axvline(cen+pd*i,color='darkseagreen',alpha=0.6)\n",
    "\n",
    "    return"
   ]
  },
  {
   "cell_type": "code",
   "execution_count": null,
   "metadata": {},
   "outputs": [],
   "source": [
    "#list of inds to use -- easy to manipulate\n",
    "#can also use finddense to not have large gaps, but then harder to control number of plots\n",
    "inds = [0,79,181,284,359,517,714,800,900,1100,1177,1280,-1]\n",
    "orbsub(inds)"
   ]
  },
  {
   "cell_type": "code",
   "execution_count": null,
   "metadata": {},
   "outputs": [],
   "source": [
    "def checkpds(st,end,pd1=orb,pd2=orb+1,det=False,window=7,pbins=10):\n",
    "    fig,ax = plt.subplots(1,2,figsize=(10,4),sharey=True)\n",
    "    ttab = iband[st:end]\n",
    "    if det:\n",
    "        o.detrend(ttab,window=window)\n",
    "        mag = ttab['I detrend']\n",
    "    else: mag = ttab['I mag']\n",
    "    days = ttab['MJD-50000']\n",
    "    ax[0].scatter(days%pd1,mag,color=pink,label=str(pd1)+'d',s=6)\n",
    "    ax[1].scatter(days%pd2,mag,color=pink,label=str(pd2)+'d',s=6)\n",
    "    ax[0].scatter(pd1+days%pd1,mag,color=pink,s=6)\n",
    "    ax[1].scatter(pd2+days%pd2,mag,color=pink,s=6)\n",
    "    maxi,mini = np.max(mag[st:end]),np.min(mag[st:end])\n",
    "    ax[0].set_ylim(maxi+.01,mini-.01)\n",
    "    plt.subplots_adjust(wspace=0.05)\n",
    "    ax[0].legend()\n",
    "    ax[1].legend()\n",
    "    \n",
    "    mid,avg = o.meanphase(ttab,pd1,det=det,pbins=pbins)\n",
    "    ax[0].plot(mid,avg,color='black',label=str(pd)+'d')\n",
    "    ax[0].plot(pd1+mid,avg,color='black')\n",
    "\n",
    "    mid,avg = o.meanphase(ttab,pd2,det=det,pbins=pbins)\n",
    "    ax[1].plot(mid,avg,color='black',label=str(pd2)+'d')\n",
    "    ax[1].plot(pd2+mid,avg,color='black')\n",
    "checkpds(0,60)"
   ]
  },
  {
   "cell_type": "code",
   "execution_count": null,
   "metadata": {},
   "outputs": [],
   "source": []
  },
  {
   "cell_type": "code",
   "execution_count": null,
   "metadata": {},
   "outputs": [],
   "source": []
  },
  {
   "cell_type": "markdown",
   "metadata": {},
   "source": [
    "# 4: Look for Super-Orbital Period with Periodograms"
   ]
  },
  {
   "cell_type": "code",
   "execution_count": null,
   "metadata": {},
   "outputs": [],
   "source": [
    "#each OGLE epoch\n",
    "for i in ilist:\n",
    "    o.periodogram(i,maxp=1000)\n"
   ]
  },
  {
   "cell_type": "code",
   "execution_count": null,
   "metadata": {},
   "outputs": [],
   "source": [
    "#full LC\n",
    "df,pks = o.multiphase(iband,orb=orb,incl_orb=False,dense=False,minp=100,maxp=1000,plotpd=True)"
   ]
  },
  {
   "cell_type": "markdown",
   "metadata": {},
   "source": [
    "# 5: Look for Super-Orbital Period with LC"
   ]
  },
  {
   "cell_type": "code",
   "execution_count": null,
   "metadata": {},
   "outputs": [],
   "source": [
    "plt.figure(figsize=(20,5))\n",
    "plt.scatter(idays,imag,color=pink,s=8)\n",
    "\n",
    "maxi,mini = np.max(imag),np.min(imag)\n",
    "plt.ylim(maxi+.05,mini-.05)\n",
    "\n",
    "#add any known (Type II) outbursts"
   ]
  },
  {
   "cell_type": "code",
   "execution_count": null,
   "metadata": {},
   "outputs": [],
   "source": []
  }
 ],
 "metadata": {
  "kernelspec": {
   "display_name": "Python 3",
   "language": "python",
   "name": "python3"
  },
  "language_info": {
   "codemirror_mode": {
    "name": "ipython",
    "version": 3
   },
   "file_extension": ".py",
   "mimetype": "text/x-python",
   "name": "python",
   "nbconvert_exporter": "python",
   "pygments_lexer": "ipython3",
   "version": "3.7.6"
  }
 },
 "nbformat": 4,
 "nbformat_minor": 4
}
